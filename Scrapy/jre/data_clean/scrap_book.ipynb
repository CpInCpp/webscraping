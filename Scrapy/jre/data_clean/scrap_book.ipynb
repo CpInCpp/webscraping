{
 "cells": [
  {
   "cell_type": "code",
   "execution_count": null,
   "metadata": {},
   "outputs": [],
   "source": [
    "# these will return df for ranges in which spikes occur:\n",
    "t1 = df['2015-06':'2016-01']\n",
    "t2 = df['2017-01':'2017-03']\n",
    "t3 = df['2017-06':'2017-09']\n",
    "t4 = df['2018-06':'2019-01']\n",
    "t5 = df['2019-01':]\n",
    "\n",
    "# number in top n\n",
    "n = 10\n",
    "\n",
    "# Views\n",
    "tv1 = t1.nlargest(n, 'views')\n",
    "tv2 = t2.nlargest(n, 'views')\n",
    "tv3 = t3.nlargest(n, 'views')\n",
    "tv4 = t4.nlargest(n, 'views')\n",
    "tv5 = t5.nlargest(n, 'views')\n",
    "\n",
    "# Likes\n",
    "t1.nlargest(n, 'likes')\n",
    "t2.nlargest(n, 'likes')\n",
    "t3.nlargest(n, 'likes')\n",
    "t4.nlargest(n, 'likes')\n",
    "t5.nlargest(n, 'likes')\n",
    "\n",
    "# dislikes\n",
    "t1.nlargest(n, 'dislikes')\n",
    "t2.nlargest(n, 'dislikes')\n",
    "t3.nlargest(n, 'dislikes')\n",
    "t4.nlargest(n, 'dislikes')\n",
    "t5.nlargest(n, 'dislikes')\n",
    "\n",
    "\n",
    "\n",
    "# create a new data frame with a column called 'spike', to label the spikes in \n",
    "\n",
    "\n",
    "tv1['spike'] = ['1']*10\n",
    "tv2['spike'] = ['2']*10\n",
    "tv3['spike'] = ['3']*10\n",
    "tv4['spike'] = ['4']*10\n",
    "tv5['spike'] = ['5']*10\n",
    "tv = pd.concat([tv1,tv2,tv3,tv4,tv5], axis = 0)\n"
   ]
  }
 ],
 "metadata": {
  "kernelspec": {
   "display_name": "Python 3",
   "language": "python",
   "name": "python3"
  },
  "language_info": {
   "codemirror_mode": {
    "name": "ipython",
    "version": 3
   },
   "file_extension": ".py",
   "mimetype": "text/x-python",
   "name": "python",
   "nbconvert_exporter": "python",
   "pygments_lexer": "ipython3",
   "version": "3.7.1"
  }
 },
 "nbformat": 4,
 "nbformat_minor": 2
}
