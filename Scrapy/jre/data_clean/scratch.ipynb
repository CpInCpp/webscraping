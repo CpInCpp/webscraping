{
 "cells": [
  {
   "cell_type": "code",
   "execution_count": null,
   "metadata": {},
   "outputs": [],
   "source": [
    "# these will return df for ranges in which spikes occur:\n",
    "t1 = df['2015-06':'2016-01']\n",
    "t2 = df['2017-01':'2017-03']\n",
    "t3 = df['2017-06':'2017-09']\n",
    "t4 = df['2018-06':'2019-01']\n",
    "t5 = df['2019-01':]\n",
    "\n",
    "# number in top n\n",
    "n = 10\n",
    "\n",
    "# Views\n",
    "tv1 = t1.nlargest(n, 'views')\n",
    "tv2 = t2.nlargest(n, 'views')\n",
    "tv3 = t3.nlargest(n, 'views')\n",
    "tv4 = t4.nlargest(n, 'views')\n",
    "tv5 = t5.nlargest(n, 'views')\n",
    "\n",
    "# Likes\n",
    "t1.nlargest(n, 'likes')\n",
    "t2.nlargest(n, 'likes')\n",
    "t3.nlargest(n, 'likes')\n",
    "t4.nlargest(n, 'likes')\n",
    "t5.nlargest(n, 'likes')\n",
    "\n",
    "# dislikes\n",
    "t1.nlargest(n, 'dislikes')\n",
    "t2.nlargest(n, 'dislikes')\n",
    "t3.nlargest(n, 'dislikes')\n",
    "t4.nlargest(n, 'dislikes')\n",
    "t5.nlargest(n, 'dislikes')\n",
    "\n",
    "\n",
    "\n",
    "# create a new data frame with a column called 'spike', to label the spikes in \n",
    "\n",
    "\n",
    "tv1['spike'] = ['1']*10\n",
    "tv2['spike'] = ['2']*10\n",
    "tv3['spike'] = ['3']*10\n",
    "tv4['spike'] = ['4']*10\n",
    "tv5['spike'] = ['5']*10\n",
    "tv = pd.concat([tv1,tv2,tv3,tv4,tv5], axis = 0)\n"
   ]
  },
  {
   "cell_type": "code",
   "execution_count": 1,
   "metadata": {},
   "outputs": [
    {
     "ename": "NameError",
     "evalue": "name 'plt' is not defined",
     "output_type": "error",
     "traceback": [
      "\u001b[1;31m---------------------------------------------------------------------------\u001b[0m",
      "\u001b[1;31mNameError\u001b[0m                                 Traceback (most recent call last)",
      "\u001b[1;32m<ipython-input-1-0107a60bf15b>\u001b[0m in \u001b[0;36m<module>\u001b[1;34m\u001b[0m\n\u001b[0;32m      1\u001b[0m \u001b[1;31m# attempting to get two plots side by side.\u001b[0m\u001b[1;33m\u001b[0m\u001b[1;33m\u001b[0m\u001b[1;33m\u001b[0m\u001b[0m\n\u001b[1;32m----> 2\u001b[1;33m \u001b[0mfig\u001b[0m\u001b[1;33m,\u001b[0m \u001b[1;33m(\u001b[0m\u001b[0max\u001b[0m\u001b[1;33m,\u001b[0m \u001b[0max2\u001b[0m\u001b[1;33m)\u001b[0m \u001b[1;33m=\u001b[0m \u001b[0mplt\u001b[0m\u001b[1;33m.\u001b[0m\u001b[0msubplots\u001b[0m\u001b[1;33m(\u001b[0m\u001b[0mncols\u001b[0m\u001b[1;33m=\u001b[0m\u001b[1;36m2\u001b[0m\u001b[1;33m,\u001b[0m \u001b[0msharey\u001b[0m\u001b[1;33m=\u001b[0m\u001b[1;32mTrue\u001b[0m\u001b[1;33m,\u001b[0m \u001b[0mfigsize\u001b[0m\u001b[1;33m=\u001b[0m\u001b[1;33m(\u001b[0m\u001b[1;36m10\u001b[0m\u001b[1;33m,\u001b[0m\u001b[1;36m10\u001b[0m\u001b[1;33m)\u001b[0m\u001b[1;33m)\u001b[0m\u001b[1;33m\u001b[0m\u001b[1;33m\u001b[0m\u001b[0m\n\u001b[0m\u001b[0;32m      3\u001b[0m \u001b[1;33m\u001b[0m\u001b[0m\n\u001b[0;32m      4\u001b[0m \u001b[0max\u001b[0m\u001b[1;33m.\u001b[0m\u001b[0minvert_xaxis\u001b[0m\u001b[1;33m(\u001b[0m\u001b[1;33m)\u001b[0m\u001b[1;33m\u001b[0m\u001b[1;33m\u001b[0m\u001b[0m\n\u001b[0;32m      5\u001b[0m \u001b[0max\u001b[0m\u001b[1;33m.\u001b[0m\u001b[0myaxis\u001b[0m\u001b[1;33m.\u001b[0m\u001b[0mtick_right\u001b[0m\u001b[1;33m(\u001b[0m\u001b[1;33m)\u001b[0m\u001b[1;33m\u001b[0m\u001b[1;33m\u001b[0m\u001b[0m\n",
      "\u001b[1;31mNameError\u001b[0m: name 'plt' is not defined"
     ]
    }
   ],
   "source": [
    "# attempting to get two plots side by side.\n",
    "fig, (ax, ax2) = plt.subplots(ncols=2, sharey=True, figsize=(10,10))\n",
    "\n",
    "ax.invert_xaxis()\n",
    "ax.yaxis.tick_right()\n",
    "\n",
    "ax.axes.set_title('Number of Episodes by Category', fontsize=fs)\n",
    "\n",
    "dft.groupby('tag').ep_title.count().sort_values(ascending=True).plot(kind='barh', x='LABEL',  legend=False, ax=ax)\n",
    "dft.groupby('tag').views.mean().sort_values(ascending=True).plot(kind='barh', x='LABEL',ax=ax2)\n",
    "plt.show()"
   ]
  }
 ],
 "metadata": {
  "kernelspec": {
   "display_name": "Python 3",
   "language": "python",
   "name": "python3"
  },
  "language_info": {
   "codemirror_mode": {
    "name": "ipython",
    "version": 3
   },
   "file_extension": ".py",
   "mimetype": "text/x-python",
   "name": "python",
   "nbconvert_exporter": "python",
   "pygments_lexer": "ipython3",
   "version": "3.7.1"
  }
 },
 "nbformat": 4,
 "nbformat_minor": 2
}
