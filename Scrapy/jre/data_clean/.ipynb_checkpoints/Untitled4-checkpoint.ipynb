{
 "cells": [
  {
   "cell_type": "code",
   "execution_count": null,
   "metadata": {},
   "outputs": [],
   "source": [
    "import pandas\n",
    "\n",
    "\n",
    "# get dataset\n",
    "#df = pd.read_csv('dataset.csv')\n",
    "#df.columns = ['facebook_id', 'action_id', 'action_type', 'referred_id']\n",
    "\n",
    "\n",
    "# group by action_id and count action_type in [stories] and action_id==referred_id \n",
    "#df.groupby('action_id')\n",
    "\n",
    "\n",
    "# for each tag, get the number of stories\n",
    "story = []\n",
    "comment = []\n",
    "for tag in df.action_id.unique():\n",
    "    \n",
    "    num_story = 0\n",
    "    num_comment = 0\n",
    "    for i in range(0, len(df.action_type)):\n",
    "        if df.referred_id[i] == tag:\n",
    "            if df.action_type[i].isin(['post', 'share', 'photo']):\n",
    "            #item is a story\n",
    "                num_story += 1\n",
    "            else:\n",
    "            # item is a comment\n",
    "                num_comment = += 1\n",
    "    story.append(num_story)\n",
    "    comment.append(num_comment)\n",
    "comment_bin = range(0, max(comment)+1)\n",
    "story_freq = []\n",
    "for i in comment_bin:\n",
    "    for item in comment:\n",
    "        freq = 0\n",
    "        if item = i:\n",
    "            freq += story[i]\n",
    "    story_freq.append(freq)\n",
    "\n",
    "# create dataframe with action_ids and add story list and comment lists as columns.\n",
    "pd.DataFrame = {'number_of_comments':comment_bin, 'number_of_stories':story_freq}\n",
    "    "
   ]
  }
 ],
 "metadata": {
  "kernelspec": {
   "display_name": "Python 3",
   "language": "python",
   "name": "python3"
  },
  "language_info": {
   "codemirror_mode": {
    "name": "ipython",
    "version": 3
   },
   "file_extension": ".py",
   "mimetype": "text/x-python",
   "name": "python",
   "nbconvert_exporter": "python",
   "pygments_lexer": "ipython3",
   "version": "3.7.1"
  }
 },
 "nbformat": 4,
 "nbformat_minor": 2
}
