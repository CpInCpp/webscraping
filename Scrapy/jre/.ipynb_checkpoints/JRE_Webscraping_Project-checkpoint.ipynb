{
 "cells": [
  {
   "cell_type": "code",
   "execution_count": 43,
   "metadata": {},
   "outputs": [
    {
     "data": {
      "text/html": [
       "<script>\n",
       "code_show=true; \n",
       "function code_toggle() {\n",
       " if (code_show){\n",
       " $('div.input').hide();\n",
       " } else {\n",
       " $('div.input').show();\n",
       " }\n",
       " code_show = !code_show\n",
       "} \n",
       "$( document ).ready(code_toggle);\n",
       "</script>\n",
       "The raw code for this IPython notebook is by default hidden for easier reading.\n",
       "To toggle on/off the raw code, click <a href=\"javascript:code_toggle()\">here</a>."
      ],
      "text/plain": [
       "<IPython.core.display.HTML object>"
      ]
     },
     "execution_count": 43,
     "metadata": {},
     "output_type": "execute_result"
    }
   ],
   "source": [
    "# this code will hide the coding cells..\n",
    "HTML('''<script>\n",
    "code_show=true; \n",
    "function code_toggle() {\n",
    " if (code_show){\n",
    " $('div.input').hide();\n",
    " } else {\n",
    " $('div.input').show();\n",
    " }\n",
    " code_show = !code_show\n",
    "} \n",
    "$( document ).ready(code_toggle);\n",
    "</script>\n",
    "The raw code for this IPython notebook is by default hidden for easier reading.\n",
    "To toggle on/off the raw code, click <a href=\"javascript:code_toggle()\">here</a>.''')"
   ]
  },
  {
   "cell_type": "code",
   "execution_count": 175,
   "metadata": {},
   "outputs": [],
   "source": [
    "# import \n",
    "import pandas as pd\n",
    "import numpy as np\n",
    "from matplotlib import pyplot as plt\n",
    "from IPython.display import HTML\n",
    "from scipy import stats\n",
    "import ipywidgets as widgets\n",
    "from ipywidgets import interact, interact_manual\n",
    "from datetime import datetime\n",
    "df = pd.read_csv('c:/users/nanot/webscraping/scrapy/jre/data_clean/jre2_clean.csv')"
   ]
  },
  {
   "cell_type": "code",
   "execution_count": 176,
   "metadata": {},
   "outputs": [],
   "source": [
    "# a few cleaning bits..\n",
    "# change the name of the tag, 'atheletes-fighters-martial-arts' to something else...\n",
    "df['tag'] = df.tag.str.replace('athletes-fighters-martial-arts', 'athletes-fighters')\n",
    "# get rid of the episode number from the title\n",
    "df['ep_title'] = df.ep_title.str.replace('\\\\#\\d{1,4}- ', '')\n",
    "# drop 'best of' episodes, episodes less than 55 min, and fight companion episodes..\n",
    "mask1 = ~df.ep_title.str.contains('Best of')\n",
    "mask2 = df.runtime > 55\n",
    "mask3 = ~df.ep_title.str.contains('Fight Companion')\n",
    "df = df[mask1&mask2&mask3]\n",
    "\n",
    "# change the date format using pd.to_datetime(), and then set the airdate as index.\n",
    "df['airdate'] = pd.to_datetime(df.airdate)\n",
    "df = df.set_index('airdate')\n",
    "\n",
    "# create two separate data frames: 1 with no tag column, and one with tag column.  Then drop the duplicates from the dataframe\n",
    "dft = df.copy()\n",
    "df = df.drop('tag', axis = 1)\n",
    "df = df.drop_duplicates()\n",
    "\n"
   ]
  },
  {
   "cell_type": "code",
   "execution_count": 177,
   "metadata": {},
   "outputs": [],
   "source": [
    "# define masks for the data\n",
    "# masks for the outliers of tagless df\n",
    "s = 3\n",
    "mask_outliers_views = (np.abs(stats.zscore(df.views)) > s)\n",
    "mask_outliers_runtime = (np.abs(stats.zscore(df.runtime)) > s)\n",
    "mask_outliers_likes = (np.abs(stats.zscore(df.likes)) > s)\n",
    "mask_outliers_dislikes = (np.abs(stats.zscore(df.dislikes)) > s)\n",
    "mask_outliers_ratio = (np.abs(stats.zscore(df.ratio)) > s)\n",
    "# masks for the outliers of df with tags\n",
    "tmask_outliers_views = (np.abs(stats.zscore(dft.views)) > s)\n",
    "tmask_outliers_runtime = (np.abs(stats.zscore(dft.runtime)) > s)\n",
    "tmask_outliers_likes = (np.abs(stats.zscore(dft.likes)) > s)\n",
    "tmask_outliers_dislikes = (np.abs(stats.zscore(dft.dislikes)) > s)\n",
    "tmask_outliers_ratio = (np.abs(stats.zscore(dft.ratio)) > s)\n",
    "# combos for both dfs\n",
    "mask_or = ~mask_outliers_views & ~mask_outliers_likes & ~mask_outliers_dislikes & ~mask_outliers_ratio # outlier removal mask\n",
    "tmask_or = ~tmask_outliers_views & ~tmask_outliers_likes & ~tmask_outliers_dislikes & ~tmask_outliers_ratio # outlier removal mask for tag df\n",
    "\n",
    "#create time slice for last 2 years..\n",
    "#dft_2ys = dft['2017-06':'2019-06']\n"
   ]
  },
  {
   "cell_type": "markdown",
   "metadata": {},
   "source": [
    "Analysis of The Joe Rogan Experience Podcast"
   ]
  },
  {
   "cell_type": "markdown",
   "metadata": {},
   "source": [
    "Intro:\n",
    "The Joe Rogan Experience is a popular and unusually structured podcast in which guests sit and casually converse with its host, Joe Rogan.  Being that the show takes on different flavor depending on the guest, I thought it may be interesting to see if there are any obvious statistical differences amongst the many categories that may describe each episode.  But first, I wanted to take a general look at the data collected."
   ]
  },
  {
   "cell_type": "markdown",
   "metadata": {},
   "source": [
    "Dataset:\n",
    "The dataset was scraped from JREpodcast.com--a third-party fan-made website with video links to every episode.  Nearly all entries included data such as title (which includes the guest), duration, number of views, number of likes, number of dislikes, and ratio.  This information wasn't too hard to scrape, but what I really wanted was the category, which proved to be more chanllenging to obtain.  When the scrape was complete, I had two datasets to clean: one with categories and one without."
   ]
  },
  {
   "cell_type": "markdown",
   "metadata": {},
   "source": [
    "Results"
   ]
  },
  {
   "cell_type": "code",
   "execution_count": 178,
   "metadata": {},
   "outputs": [
    {
     "data": {
      "text/html": [
       "<div>\n",
       "<style scoped>\n",
       "    .dataframe tbody tr th:only-of-type {\n",
       "        vertical-align: middle;\n",
       "    }\n",
       "\n",
       "    .dataframe tbody tr th {\n",
       "        vertical-align: top;\n",
       "    }\n",
       "\n",
       "    .dataframe thead th {\n",
       "        text-align: right;\n",
       "    }\n",
       "</style>\n",
       "<table border=\"1\" class=\"dataframe\">\n",
       "  <thead>\n",
       "    <tr style=\"text-align: right;\">\n",
       "      <th></th>\n",
       "      <th>ep</th>\n",
       "      <th>ep_title</th>\n",
       "      <th>runtime</th>\n",
       "      <th>views</th>\n",
       "      <th>likes</th>\n",
       "      <th>dislikes</th>\n",
       "      <th>ratio</th>\n",
       "    </tr>\n",
       "    <tr>\n",
       "      <th>airdate</th>\n",
       "      <th></th>\n",
       "      <th></th>\n",
       "      <th></th>\n",
       "      <th></th>\n",
       "      <th></th>\n",
       "      <th></th>\n",
       "      <th></th>\n",
       "    </tr>\n",
       "  </thead>\n",
       "  <tbody>\n",
       "    <tr>\n",
       "      <th>2015-02-26</th>\n",
       "      <td>617.0</td>\n",
       "      <td>Brian Regan</td>\n",
       "      <td>133.97</td>\n",
       "      <td>258174</td>\n",
       "      <td>1788</td>\n",
       "      <td>110</td>\n",
       "      <td>16.25</td>\n",
       "    </tr>\n",
       "    <tr>\n",
       "      <th>2018-08-03</th>\n",
       "      <td>1152.0</td>\n",
       "      <td>John Joseph</td>\n",
       "      <td>202.83</td>\n",
       "      <td>928267</td>\n",
       "      <td>11855</td>\n",
       "      <td>1297</td>\n",
       "      <td>9.14</td>\n",
       "    </tr>\n",
       "    <tr>\n",
       "      <th>2017-10-27</th>\n",
       "      <td>1029.0</td>\n",
       "      <td>Tom DeLonge</td>\n",
       "      <td>100.83</td>\n",
       "      <td>3000993</td>\n",
       "      <td>27190</td>\n",
       "      <td>8006</td>\n",
       "      <td>3.40</td>\n",
       "    </tr>\n",
       "    <tr>\n",
       "      <th>2013-06-03</th>\n",
       "      <td>267.0</td>\n",
       "      <td>Mac Danzig</td>\n",
       "      <td>157.92</td>\n",
       "      <td>23497</td>\n",
       "      <td>203</td>\n",
       "      <td>15</td>\n",
       "      <td>13.53</td>\n",
       "    </tr>\n",
       "    <tr>\n",
       "      <th>2013-05-29</th>\n",
       "      <td>232.0</td>\n",
       "      <td>Giorgio Tsoukalos</td>\n",
       "      <td>141.82</td>\n",
       "      <td>458933</td>\n",
       "      <td>3709</td>\n",
       "      <td>364</td>\n",
       "      <td>10.19</td>\n",
       "    </tr>\n",
       "    <tr>\n",
       "      <th>2013-04-25</th>\n",
       "      <td>352.0</td>\n",
       "      <td>Tom Segura</td>\n",
       "      <td>124.72</td>\n",
       "      <td>169996</td>\n",
       "      <td>1256</td>\n",
       "      <td>77</td>\n",
       "      <td>16.31</td>\n",
       "    </tr>\n",
       "    <tr>\n",
       "      <th>2014-12-03</th>\n",
       "      <td>582.0</td>\n",
       "      <td>David Seaman</td>\n",
       "      <td>181.12</td>\n",
       "      <td>101476</td>\n",
       "      <td>650</td>\n",
       "      <td>118</td>\n",
       "      <td>5.51</td>\n",
       "    </tr>\n",
       "    <tr>\n",
       "      <th>2019-01-12</th>\n",
       "      <td>1223.0</td>\n",
       "      <td>Greg Fitzsimmons</td>\n",
       "      <td>199.13</td>\n",
       "      <td>1220227</td>\n",
       "      <td>11759</td>\n",
       "      <td>1217</td>\n",
       "      <td>9.66</td>\n",
       "    </tr>\n",
       "    <tr>\n",
       "      <th>2013-02-11</th>\n",
       "      <td>154.0</td>\n",
       "      <td>Sam Tripoli</td>\n",
       "      <td>136.07</td>\n",
       "      <td>9334</td>\n",
       "      <td>102</td>\n",
       "      <td>7</td>\n",
       "      <td>14.57</td>\n",
       "    </tr>\n",
       "    <tr>\n",
       "      <th>2015-10-16</th>\n",
       "      <td>709.0</td>\n",
       "      <td>Steven Rinella</td>\n",
       "      <td>166.40</td>\n",
       "      <td>407737</td>\n",
       "      <td>3017</td>\n",
       "      <td>263</td>\n",
       "      <td>11.47</td>\n",
       "    </tr>\n",
       "  </tbody>\n",
       "</table>\n",
       "</div>"
      ],
      "text/plain": [
       "                ep           ep_title  runtime    views  likes  dislikes  \\\n",
       "airdate                                                                    \n",
       "2015-02-26   617.0        Brian Regan   133.97   258174   1788       110   \n",
       "2018-08-03  1152.0        John Joseph   202.83   928267  11855      1297   \n",
       "2017-10-27  1029.0        Tom DeLonge   100.83  3000993  27190      8006   \n",
       "2013-06-03   267.0         Mac Danzig   157.92    23497    203        15   \n",
       "2013-05-29   232.0  Giorgio Tsoukalos   141.82   458933   3709       364   \n",
       "2013-04-25   352.0         Tom Segura   124.72   169996   1256        77   \n",
       "2014-12-03   582.0       David Seaman   181.12   101476    650       118   \n",
       "2019-01-12  1223.0   Greg Fitzsimmons   199.13  1220227  11759      1217   \n",
       "2013-02-11   154.0        Sam Tripoli   136.07     9334    102         7   \n",
       "2015-10-16   709.0     Steven Rinella   166.40   407737   3017       263   \n",
       "\n",
       "            ratio  \n",
       "airdate            \n",
       "2015-02-26  16.25  \n",
       "2018-08-03   9.14  \n",
       "2017-10-27   3.40  \n",
       "2013-06-03  13.53  \n",
       "2013-05-29  10.19  \n",
       "2013-04-25  16.31  \n",
       "2014-12-03   5.51  \n",
       "2019-01-12   9.66  \n",
       "2013-02-11  14.57  \n",
       "2015-10-16  11.47  "
      ]
     },
     "execution_count": 178,
     "metadata": {},
     "output_type": "execute_result"
    }
   ],
   "source": [
    "df.sample(10)"
   ]
  },
  {
   "cell_type": "code",
   "execution_count": 179,
   "metadata": {},
   "outputs": [
    {
     "data": {
      "text/html": [
       "<div>\n",
       "<style scoped>\n",
       "    .dataframe tbody tr th:only-of-type {\n",
       "        vertical-align: middle;\n",
       "    }\n",
       "\n",
       "    .dataframe tbody tr th {\n",
       "        vertical-align: top;\n",
       "    }\n",
       "\n",
       "    .dataframe thead th {\n",
       "        text-align: right;\n",
       "    }\n",
       "</style>\n",
       "<table border=\"1\" class=\"dataframe\">\n",
       "  <thead>\n",
       "    <tr style=\"text-align: right;\">\n",
       "      <th></th>\n",
       "      <th>ep</th>\n",
       "      <th>ep_title</th>\n",
       "      <th>tag</th>\n",
       "      <th>runtime</th>\n",
       "      <th>views</th>\n",
       "      <th>likes</th>\n",
       "      <th>dislikes</th>\n",
       "      <th>ratio</th>\n",
       "    </tr>\n",
       "    <tr>\n",
       "      <th>airdate</th>\n",
       "      <th></th>\n",
       "      <th></th>\n",
       "      <th></th>\n",
       "      <th></th>\n",
       "      <th></th>\n",
       "      <th></th>\n",
       "      <th></th>\n",
       "      <th></th>\n",
       "    </tr>\n",
       "  </thead>\n",
       "  <tbody>\n",
       "    <tr>\n",
       "      <th>2018-05-23</th>\n",
       "      <td>28.0</td>\n",
       "      <td>Georges St-Pierre</td>\n",
       "      <td>athletes-fighters</td>\n",
       "      <td>182.37</td>\n",
       "      <td>3000670</td>\n",
       "      <td>48448</td>\n",
       "      <td>1553</td>\n",
       "      <td>31.20</td>\n",
       "    </tr>\n",
       "    <tr>\n",
       "      <th>2016-12-29</th>\n",
       "      <td>892.0</td>\n",
       "      <td>Greg Fitzsimmons</td>\n",
       "      <td>comedians</td>\n",
       "      <td>189.27</td>\n",
       "      <td>517696</td>\n",
       "      <td>4549</td>\n",
       "      <td>544</td>\n",
       "      <td>8.36</td>\n",
       "    </tr>\n",
       "    <tr>\n",
       "      <th>2016-04-18</th>\n",
       "      <td>786.0</td>\n",
       "      <td>Wheeler Walker, Jr.</td>\n",
       "      <td>musicians</td>\n",
       "      <td>144.72</td>\n",
       "      <td>539999</td>\n",
       "      <td>5904</td>\n",
       "      <td>423</td>\n",
       "      <td>13.96</td>\n",
       "    </tr>\n",
       "    <tr>\n",
       "      <th>2013-05-05</th>\n",
       "      <td>215.0</td>\n",
       "      <td>Andrew Dice Clay</td>\n",
       "      <td>actors</td>\n",
       "      <td>154.45</td>\n",
       "      <td>100372</td>\n",
       "      <td>847</td>\n",
       "      <td>63</td>\n",
       "      <td>13.44</td>\n",
       "    </tr>\n",
       "    <tr>\n",
       "      <th>2016-11-05</th>\n",
       "      <td>868.0</td>\n",
       "      <td>John Dudley (Audio Only)</td>\n",
       "      <td>athletes-fighters</td>\n",
       "      <td>114.73</td>\n",
       "      <td>125732</td>\n",
       "      <td>516</td>\n",
       "      <td>217</td>\n",
       "      <td>2.38</td>\n",
       "    </tr>\n",
       "    <tr>\n",
       "      <th>2014-11-22</th>\n",
       "      <td>578.0</td>\n",
       "      <td>Peter McGraw</td>\n",
       "      <td>authors</td>\n",
       "      <td>166.97</td>\n",
       "      <td>94024</td>\n",
       "      <td>478</td>\n",
       "      <td>74</td>\n",
       "      <td>6.46</td>\n",
       "    </tr>\n",
       "    <tr>\n",
       "      <th>2013-10-29</th>\n",
       "      <td>408.0</td>\n",
       "      <td>Todd Glass</td>\n",
       "      <td>comedians</td>\n",
       "      <td>176.38</td>\n",
       "      <td>97374</td>\n",
       "      <td>832</td>\n",
       "      <td>48</td>\n",
       "      <td>17.33</td>\n",
       "    </tr>\n",
       "    <tr>\n",
       "      <th>2016-09-07</th>\n",
       "      <td>843.0</td>\n",
       "      <td>Tony Hinchcliffe</td>\n",
       "      <td>actors</td>\n",
       "      <td>162.82</td>\n",
       "      <td>573101</td>\n",
       "      <td>4246</td>\n",
       "      <td>520</td>\n",
       "      <td>8.17</td>\n",
       "    </tr>\n",
       "    <tr>\n",
       "      <th>2015-01-13</th>\n",
       "      <td>598.0</td>\n",
       "      <td>Joey “CoCo” Diaz</td>\n",
       "      <td>actors</td>\n",
       "      <td>178.00</td>\n",
       "      <td>918354</td>\n",
       "      <td>6445</td>\n",
       "      <td>408</td>\n",
       "      <td>15.80</td>\n",
       "    </tr>\n",
       "    <tr>\n",
       "      <th>2019-05-16</th>\n",
       "      <td>1298.0</td>\n",
       "      <td>Neal Brennan</td>\n",
       "      <td>comedians</td>\n",
       "      <td>141.20</td>\n",
       "      <td>1480156</td>\n",
       "      <td>13123</td>\n",
       "      <td>1987</td>\n",
       "      <td>6.60</td>\n",
       "    </tr>\n",
       "  </tbody>\n",
       "</table>\n",
       "</div>"
      ],
      "text/plain": [
       "                ep                  ep_title                tag  runtime  \\\n",
       "airdate                                                                    \n",
       "2018-05-23    28.0         Georges St-Pierre  athletes-fighters   182.37   \n",
       "2016-12-29   892.0          Greg Fitzsimmons          comedians   189.27   \n",
       "2016-04-18   786.0       Wheeler Walker, Jr.          musicians   144.72   \n",
       "2013-05-05   215.0          Andrew Dice Clay             actors   154.45   \n",
       "2016-11-05   868.0  John Dudley (Audio Only)  athletes-fighters   114.73   \n",
       "2014-11-22   578.0              Peter McGraw            authors   166.97   \n",
       "2013-10-29   408.0                Todd Glass          comedians   176.38   \n",
       "2016-09-07   843.0          Tony Hinchcliffe             actors   162.82   \n",
       "2015-01-13   598.0          Joey “CoCo” Diaz             actors   178.00   \n",
       "2019-05-16  1298.0              Neal Brennan          comedians   141.20   \n",
       "\n",
       "              views  likes  dislikes  ratio  \n",
       "airdate                                      \n",
       "2018-05-23  3000670  48448      1553  31.20  \n",
       "2016-12-29   517696   4549       544   8.36  \n",
       "2016-04-18   539999   5904       423  13.96  \n",
       "2013-05-05   100372    847        63  13.44  \n",
       "2016-11-05   125732    516       217   2.38  \n",
       "2014-11-22    94024    478        74   6.46  \n",
       "2013-10-29    97374    832        48  17.33  \n",
       "2016-09-07   573101   4246       520   8.17  \n",
       "2015-01-13   918354   6445       408  15.80  \n",
       "2019-05-16  1480156  13123      1987   6.60  "
      ]
     },
     "execution_count": 179,
     "metadata": {},
     "output_type": "execute_result"
    }
   ],
   "source": [
    "dft.sample(10)"
   ]
  },
  {
   "cell_type": "code",
   "execution_count": 180,
   "metadata": {},
   "outputs": [
    {
     "data": {
      "application/vnd.jupyter.widget-view+json": {
       "model_id": "7342a763e7b84aeea9cee2f520888b59",
       "version_major": 2,
       "version_minor": 0
      },
      "text/plain": [
       "interactive(children=(Checkbox(value=False, description='DropOutliers'), Output()), _dom_classes=('widget-inte…"
      ]
     },
     "metadata": {},
     "output_type": "display_data"
    }
   ],
   "source": [
    "# plot time series of views\n",
    "# need to format the plot.  label y axis, and get more tick marks, maybe...\n",
    "cols = ['views', 'likes', 'dislikes']\n",
    "ylabels = ['Views (10 Mil)', 'Likes', 'Dislikes']\n",
    "@interact\n",
    "def ts(DropOutliers = False):\n",
    "    if DropOutliers:\n",
    "        dfs = df_or\n",
    "    else:\n",
    "        dfs = df\n",
    "    axes = dfs[cols].plot(marker='.', title = 'Number of Views Since the Beginning of the Podcast', figsize=(15,10), subplots = True, legend = False, grid = True)\n",
    "    # There are a few spikes that are interesting.  Who are these people receving so many views?\n",
    "    plt.subplots_adjust(top=.95, left=.25)\n",
    "    #plt.ylabel(['Dislikes', 'Likes', 'Views (10 Mil)'])\n",
    "    i = 0\n",
    "    for ax in axes:\n",
    "        ax.set_ylabel(ylabels[i])\n",
    "        ax.set_xlabel('Air Date')\n",
    "        i += 1\n",
    "    "
   ]
  },
  {
   "cell_type": "code",
   "execution_count": 181,
   "metadata": {},
   "outputs": [
    {
     "data": {
      "application/vnd.jupyter.widget-view+json": {
       "model_id": "45738fab46564233a5bf39625d3b805e",
       "version_major": 2,
       "version_minor": 0
      },
      "text/plain": [
       "interactive(children=(Checkbox(value=False, description='DropOutliers'), Checkbox(value=False, description='La…"
      ]
     },
     "metadata": {},
     "output_type": "display_data"
    }
   ],
   "source": [
    "#Histogram\n",
    "col_list = ['views', 'likes', 'dislikes', 'ratio', 'runtime']\n",
    "@interact\n",
    "def histogram_by_col(DropOutliers = False, LastTwoYears = False, Columns=col_list):\n",
    "    if LastTwoYears:\n",
    "        start_date = '2017-06'\n",
    "    else:\n",
    "        start_date = '2013-01-15'\n",
    "    if DropOutliers:\n",
    "        dfthist = dft_or\n",
    "    else:\n",
    "        dfthist = dft \n",
    "    fs = 15\n",
    "    axes = dfthist[start_date:'2019-07-04'][Columns].hist( color = 'c',figsize=(8,8))\n",
    "    axes.set_ylabel('Count', fontsize = fs)\n",
    "    axes.set_xlabel(Columns, fontsize = fs)\n",
    "#     axes.set_title(Columns, fontsize=fs)\n",
    "    "
   ]
  },
  {
   "cell_type": "code",
   "execution_count": 182,
   "metadata": {
    "scrolled": false
   },
   "outputs": [
    {
     "data": {
      "application/vnd.jupyter.widget-view+json": {
       "model_id": "84bc0faae9984be0bd55f8da95a18297",
       "version_major": 2,
       "version_minor": 0
      },
      "text/plain": [
       "interactive(children=(Checkbox(value=False, description='DropOutliers'), Output()), _dom_classes=('widget-inte…"
      ]
     },
     "metadata": {},
     "output_type": "display_data"
    }
   ],
   "source": [
    "# barplot \n",
    "@interact\n",
    "def barplot_views_by_cat(DropOutliers = False):\n",
    "    if DropOutliers:\n",
    "        dftbar = dft_or\n",
    "    else:\n",
    "        dftbar = dft \n",
    "    fs = 15\n",
    "    axes = dftbar.groupby('tag').views.mean().sort_values(ascending=True).plot.barh(color = 'c', fontsize = 15, figsize=(10,10))\n",
    "    axes.set_ylabel('Guest', fontsize = fs)\n",
    "    axes.set_xlabel('Views', fontsize = fs)\n",
    "    axes.set_title('Views by Category', fontsize=fs)\n",
    "    "
   ]
  },
  {
   "cell_type": "code",
   "execution_count": 204,
   "metadata": {
    "scrolled": false
   },
   "outputs": [
    {
     "data": {
      "application/vnd.jupyter.widget-view+json": {
       "model_id": "9209c18f71354383b324d7233f209bcc",
       "version_major": 2,
       "version_minor": 0
      },
      "text/plain": [
       "interactive(children=(Dropdown(description='column', options=('views', 'likes', 'dislikes', 'ratio', 'runtime'…"
      ]
     },
     "metadata": {},
     "output_type": "display_data"
    },
    {
     "data": {
      "image/png": "[encoded data removed]",
      "text/plain": [
       "<Figure size 1440x504 with 1 Axes>"
      ]
     },
     "metadata": {
      "needs_background": "light"
     },
     "output_type": "display_data"
    }
   ],
   "source": [
    "\n",
    "\n",
    "\n",
    "# I want to choose a column from col list and display box plots from specific tags on the same plot.\n",
    "dft_or = dft[tmask_or]\n",
    "# how do i select columns for this...?\n",
    "col_list = ['views', 'likes', 'dislikes', 'ratio', 'runtime']\n",
    "tag = ['politics', 'athletes-fighters', 'authors', 'comedians', 'filmmakers', 'health', 'journalists', 'miscellaneous', 'musicians', 'politics', 'writers']\n",
    "#dft_or[dft_or.tag == tag].plot(title = 'Distributions Within %s'%(tag.capitalize()), fontsize=15,  y = col_list, kind='box', layout = (2,3), subplots = True, figsize = (20,8))\n",
    "@interact\n",
    "def box_plots_by_col(column=col_list, WithOutliers=False, ShowFliers = False, LastTwoYears = False, FirstTwoYears = False):\n",
    "    if FirstTwoYears:\n",
    "        start_date='2013-01-15'\n",
    "        end_date='2015-01'\n",
    "    else:\n",
    "        start_date='2013-01-15'\n",
    "        end_date='2019-07-04'\n",
    "    if LastTwoYears:\n",
    "        start_date = '2017-06'\n",
    "    else:\n",
    "        start_date = '2013-01-15'\n",
    "    if WithOutliers:\n",
    "        dftbox=dft\n",
    "    else:\n",
    "        dftbox=dft_or\n",
    "   \n",
    "    the_plot = dftbox[dftbox.tag.isin(tag)][start_date:end_date].boxplot(showfliers = ShowFliers, by = 'tag', column=column, figsize=(20,7), fontsize = 15)\n",
    "    the_plot.set_title('Distributions Within %s'%(column.capitalize()))\n",
    "    return the_plot\n",
    "\n"
   ]
  },
  {
   "cell_type": "code",
   "execution_count": 206,
   "metadata": {},
   "outputs": [
    {
     "data": {
      "text/html": [
       "<div>\n",
       "<style scoped>\n",
       "    .dataframe tbody tr th:only-of-type {\n",
       "        vertical-align: middle;\n",
       "    }\n",
       "\n",
       "    .dataframe tbody tr th {\n",
       "        vertical-align: top;\n",
       "    }\n",
       "\n",
       "    .dataframe thead th {\n",
       "        text-align: right;\n",
       "    }\n",
       "</style>\n",
       "<table border=\"1\" class=\"dataframe\">\n",
       "  <thead>\n",
       "    <tr style=\"text-align: right;\">\n",
       "      <th></th>\n",
       "      <th>ep</th>\n",
       "      <th>ep_title</th>\n",
       "      <th>tag</th>\n",
       "      <th>runtime</th>\n",
       "      <th>views</th>\n",
       "      <th>likes</th>\n",
       "      <th>dislikes</th>\n",
       "      <th>ratio</th>\n",
       "    </tr>\n",
       "    <tr>\n",
       "      <th>airdate</th>\n",
       "      <th></th>\n",
       "      <th></th>\n",
       "      <th></th>\n",
       "      <th></th>\n",
       "      <th></th>\n",
       "      <th></th>\n",
       "      <th></th>\n",
       "      <th></th>\n",
       "    </tr>\n",
       "  </thead>\n",
       "  <tbody>\n",
       "  </tbody>\n",
       "</table>\n",
       "</div>"
      ],
      "text/plain": [
       "Empty DataFrame\n",
       "Columns: [ep, ep_title, tag, runtime, views, likes, dislikes, ratio]\n",
       "Index: []"
      ]
     },
     "execution_count": 206,
     "metadata": {},
     "output_type": "execute_result"
    }
   ],
   "source": [
    "dft[dft.ep_title.str.contains('Lance')]"
   ]
  },
  {
   "cell_type": "code",
   "execution_count": 184,
   "metadata": {},
   "outputs": [
    {
     "data": {
      "application/vnd.jupyter.widget-view+json": {
       "model_id": "f765c7ebe7db41bdaf870fdf122debd2",
       "version_major": 2,
       "version_minor": 0
      },
      "text/plain": [
       "interactive(children=(Dropdown(description='category', options=('writers', 'musicians', 'politics', 'models', …"
      ]
     },
     "metadata": {},
     "output_type": "display_data"
    }
   ],
   "source": [
    "dft_or = dft[tmask_or]\n",
    "tag = ['politics', 'athletes-fighters', 'authors', 'comedians', 'filmmakers', 'health', 'journalists', 'miscellaneous', 'musicians', 'politics', 'writers']\n",
    "\n",
    "\n",
    "@interact\n",
    "\n",
    "def box_plots(category=dft_or.tag.unique().tolist(), WithOutliers=False, ShowFliers = False):\n",
    "    if WithOutliers:\n",
    "        dftbox=dft\n",
    "    else:\n",
    "        dftbox=dft_or\n",
    "    tag = category\n",
    "    \n",
    "    the_plot = dftbox[dftbox.tag.isin([tag])].plot(showfliers = ShowFliers, title = 'Distributions Within %s'%(tag.capitalize()), fontsize=15,  y = col_list, kind='box', layout = (2,3), subplots = True, figsize = (20,8))\n",
    "    return the_plot"
   ]
  },
  {
   "cell_type": "code",
   "execution_count": 185,
   "metadata": {},
   "outputs": [
    {
     "data": {
      "application/vnd.jupyter.widget-view+json": {
       "model_id": "7a19a7c84f234cef8c8a595e8c650529",
       "version_major": 2,
       "version_minor": 0
      },
      "text/plain": [
       "interactive(children=(Dropdown(description='column', options=('views', 'likes', 'dislikes', 'ratio', 'runtime'…"
      ]
     },
     "metadata": {},
     "output_type": "display_data"
    }
   ],
   "source": [
    "#set up interact to get top views..\n",
    "col_list = ['views', 'likes', 'dislikes', 'ratio', 'runtime']\n",
    "@interact\n",
    "def horz_bar_plot(column = col_list, n=(1, 50), DropOutliers = False):\n",
    "    if DropOutliers:\n",
    "        dfbar = df_or\n",
    "    else:\n",
    "        dfbar = df \n",
    "    \n",
    "    if n > 30:\n",
    "        fs = n/2\n",
    "    else:\n",
    "        fs = 12\n",
    "    axes = dfbar.nlargest(n, column).groupby('ep_title')[column].max().sort_values(ascending=True).plot.barh(fontsize=fs, color='b', figsize=(5,fs/2))\n",
    "    axes.set_ylabel('Guest', fontsize = fs)\n",
    "    axes.set_xlabel(column, fontsize = fs)\n",
    "    axes.set_title('Top {} Guests by Number of {}'.format(n, column), fontsize=fs)\n",
    "    "
   ]
  },
  {
   "cell_type": "markdown",
   "metadata": {},
   "source": [
    "Further work:\n",
    "-Explore transformation techniques, especially when dealing with the left-skewed plots.\n",
    "-Consolidate some of the categories.\n",
    "-Add visualization to illustrate the increase in podcast listeners since the beginning of JRE\n",
    "-Explore transcripts for nlp\n",
    "-explore the sentiment of extreme values of likes or dislikes over social media comments\n",
    "-implement stat test to test amongst variables"
   ]
  },
  {
   "cell_type": "code",
   "execution_count": null,
   "metadata": {},
   "outputs": [],
   "source": []
  }
 ],
 "metadata": {
  "kernelspec": {
   "display_name": "Python 3",
   "language": "python",
   "name": "python3"
  },
  "language_info": {
   "codemirror_mode": {
    "name": "ipython",
    "version": 3
   },
   "file_extension": ".py",
   "mimetype": "text/x-python",
   "name": "python",
   "nbconvert_exporter": "python",
   "pygments_lexer": "ipython3",
   "version": "3.7.1"
  }
 },
 "nbformat": 4,
 "nbformat_minor": 2
}
