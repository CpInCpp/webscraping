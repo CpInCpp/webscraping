{
 "cells": [
  {
   "cell_type": "code",
   "execution_count": 43,
   "metadata": {},
   "outputs": [
    {
     "data": {
      "text/html": [
       "<script>\n",
       "code_show=true; \n",
       "function code_toggle() {\n",
       " if (code_show){\n",
       " $('div.input').hide();\n",
       " } else {\n",
       " $('div.input').show();\n",
       " }\n",
       " code_show = !code_show\n",
       "} \n",
       "$( document ).ready(code_toggle);\n",
       "</script>\n",
       "The raw code for this IPython notebook is by default hidden for easier reading.\n",
       "To toggle on/off the raw code, click <a href=\"javascript:code_toggle()\">here</a>."
      ],
      "text/plain": [
       "<IPython.core.display.HTML object>"
      ]
     },
     "execution_count": 43,
     "metadata": {},
     "output_type": "execute_result"
    }
   ],
   "source": [
    "# this code will hide the coding cells..\n",
    "HTML('''<script>\n",
    "code_show=true; \n",
    "function code_toggle() {\n",
    " if (code_show){\n",
    " $('div.input').hide();\n",
    " } else {\n",
    " $('div.input').show();\n",
    " }\n",
    " code_show = !code_show\n",
    "} \n",
    "$( document ).ready(code_toggle);\n",
    "</script>\n",
    "The raw code for this IPython notebook is by default hidden for easier reading.\n",
    "To toggle on/off the raw code, click <a href=\"javascript:code_toggle()\">here</a>.''')"
   ]
  },
  {
   "cell_type": "code",
   "execution_count": 150,
   "metadata": {},
   "outputs": [],
   "source": [
    "# import \n",
    "import pandas as pd\n",
    "import numpy as np\n",
    "from matplotlib import pyplot as plt\n",
    "from IPython.display import HTML\n",
    "from scipy import stats\n",
    "import ipywidgets as widgets\n",
    "from ipywidgets import interact, interact_manual\n",
    "import datetime as dt\n",
    "df = pd.read_csv('c:/users/nanot/webscraping/scrapy/jre/data_clean/jre2_clean.csv')"
   ]
  },
  {
   "cell_type": "code",
   "execution_count": 151,
   "metadata": {},
   "outputs": [],
   "source": [
    "# a few cleaning bits..\n",
    "# change the name of the tag, 'atheletes-fighters-martial-arts' to something else...\n",
    "df['tag'] = df.tag.str.replace('athletes-fighters-martial-arts', 'athletes-fighters')\n",
    "# get rid of the episode number from the title\n",
    "df['ep_title'] = df.ep_title.str.replace('\\\\#\\d{1,4}- ', '')\n",
    "# drop 'best of' episodes, episodes less than 55 min, and fight companion episodes..\n",
    "mask1 = ~df.ep_title.str.contains('Best of')\n",
    "mask2 = df.runtime > 55\n",
    "mask3 = ~df.ep_title.str.contains('Fight Companion')\n",
    "df = df[mask1&mask2&mask3]\n",
    "\n",
    "# change the date format using pd.to_datetime(), and then set the airdate as index.\n",
    "df['airdate'] = pd.to_datetime(df.airdate)\n",
    "df = df.set_index('airdate')\n",
    "\n",
    "# create two separate data frames: 1 with no tag column, and one with tag column.  Then drop the duplicates from the dataframe\n",
    "dft = df.copy()\n",
    "df = df.drop('tag', axis = 1)\n",
    "df = df.drop_duplicates()\n",
    "\n"
   ]
  },
  {
   "cell_type": "code",
   "execution_count": 165,
   "metadata": {},
   "outputs": [],
   "source": [
    "# define masks for the data\n",
    "# masks for the outliers of tagless df\n",
    "s = 3\n",
    "mask_outliers_views = (np.abs(stats.zscore(df.views)) > s)\n",
    "mask_outliers_runtime = (np.abs(stats.zscore(df.runtime)) > s)\n",
    "mask_outliers_likes = (np.abs(stats.zscore(df.likes)) > s)\n",
    "mask_outliers_dislikes = (np.abs(stats.zscore(df.dislikes)) > s)\n",
    "mask_outliers_ratio = (np.abs(stats.zscore(df.ratio)) > s)\n",
    "# masks for the outliers of df with tags\n",
    "tmask_outliers_views = (np.abs(stats.zscore(dft.views)) > s)\n",
    "tmask_outliers_runtime = (np.abs(stats.zscore(dft.runtime)) > s)\n",
    "tmask_outliers_likes = (np.abs(stats.zscore(dft.likes)) > s)\n",
    "tmask_outliers_dislikes = (np.abs(stats.zscore(dft.dislikes)) > s)\n",
    "tmask_outliers_ratio = (np.abs(stats.zscore(dft.ratio)) > s)\n",
    "# combos for both dfs\n",
    "mask_or = ~mask_outliers_views & ~mask_outliers_likes & ~mask_outliers_dislikes & ~mask_outliers_ratio # outlier removal mask\n",
    "tmask_or = ~tmask_outliers_views & ~tmask_outliers_likes & ~tmask_outliers_dislikes & ~tmask_outliers_ratio # outlier removal mask for tag df\n",
    "\n",
    "#create time slice for last 2 years..\n",
    "#dft_2ys = dft['2017-06':'2019-06']\n",
    "\n",
    "df_or = df[mask_or]"
   ]
  },
  {
   "cell_type": "code",
   "execution_count": 281,
   "metadata": {},
   "outputs": [],
   "source": [
    "# functions\n",
    "\n",
    "# switch case function to choose year.\n",
    "def slide_switch(x):\n",
    "    if x == 8:\n",
    "        return '2019-07-04'\n",
    "    switcher = {\n",
    "        1: '2013',\n",
    "        2: '2014',\n",
    "        3: '2015',\n",
    "        4: '2016',\n",
    "        5: '2017',\n",
    "        6: '2018',\n",
    "        7: '2019'\n",
    "        }\n",
    "    return switcher[x]\n",
    "\n",
    "# take upper and lower bound for a year and return a list of tags which have more than 30 observations\n",
    "def tags_with_thirty(yr_lower, yr_upper):\n",
    "    return pd.DataFrame(dft[yr_lower:yr_upper].groupby('tag').ep_title.count()[dft[yr_lower:yr_upper].groupby('tag').ep_title.count() >= 30]).reset_index().tag.tolist()\n"
   ]
  },
  {
   "cell_type": "markdown",
   "metadata": {},
   "source": [
    "Analysis of The Joe Rogan Experience Podcast"
   ]
  },
  {
   "cell_type": "markdown",
   "metadata": {},
   "source": [
    "Intro:\n",
    "The Joe Rogan Experience is a popular and unusually structured podcast in which guests sit and casually converse with its host, Joe Rogan.  Being that the show takes on different flavor depending on the guest, I thought it may be interesting to see if there are any obvious statistical differences amongst the many categories that may describe each episode.  But first, I wanted to take a general look at the data collected."
   ]
  },
  {
   "cell_type": "markdown",
   "metadata": {},
   "source": [
    "Dataset:\n",
    "The dataset was scraped from JREpodcast.com--a third-party fan-made website with video links to every episode.  Nearly all entries included data such as title (which includes the guest), duration, number of views, number of likes, number of dislikes, and ratio.  This information wasn't too hard to scrape, but what I really wanted was the category, which proved to be more chanllenging to obtain.  When the scrape was complete, I had two datasets to clean: one with categories and one without."
   ]
  },
  {
   "cell_type": "markdown",
   "metadata": {},
   "source": [
    "Results"
   ]
  },
  {
   "cell_type": "code",
   "execution_count": 153,
   "metadata": {},
   "outputs": [
    {
     "data": {
      "text/html": [
       "<div>\n",
       "<style scoped>\n",
       "    .dataframe tbody tr th:only-of-type {\n",
       "        vertical-align: middle;\n",
       "    }\n",
       "\n",
       "    .dataframe tbody tr th {\n",
       "        vertical-align: top;\n",
       "    }\n",
       "\n",
       "    .dataframe thead th {\n",
       "        text-align: right;\n",
       "    }\n",
       "</style>\n",
       "<table border=\"1\" class=\"dataframe\">\n",
       "  <thead>\n",
       "    <tr style=\"text-align: right;\">\n",
       "      <th></th>\n",
       "      <th>ep</th>\n",
       "      <th>ep_title</th>\n",
       "      <th>runtime</th>\n",
       "      <th>views</th>\n",
       "      <th>likes</th>\n",
       "      <th>dislikes</th>\n",
       "      <th>ratio</th>\n",
       "    </tr>\n",
       "    <tr>\n",
       "      <th>airdate</th>\n",
       "      <th></th>\n",
       "      <th></th>\n",
       "      <th></th>\n",
       "      <th></th>\n",
       "      <th></th>\n",
       "      <th></th>\n",
       "      <th></th>\n",
       "    </tr>\n",
       "  </thead>\n",
       "  <tbody>\n",
       "    <tr>\n",
       "      <th>2019-06-06</th>\n",
       "      <td>67.0</td>\n",
       "      <td>Kevin Lee</td>\n",
       "      <td>126.95</td>\n",
       "      <td>953635</td>\n",
       "      <td>9756</td>\n",
       "      <td>1024</td>\n",
       "      <td>9.53</td>\n",
       "    </tr>\n",
       "    <tr>\n",
       "      <th>2018-02-12</th>\n",
       "      <td>1077.0</td>\n",
       "      <td>Johann Hari</td>\n",
       "      <td>152.42</td>\n",
       "      <td>1029507</td>\n",
       "      <td>14081</td>\n",
       "      <td>1611</td>\n",
       "      <td>8.74</td>\n",
       "    </tr>\n",
       "    <tr>\n",
       "      <th>2015-01-08</th>\n",
       "      <td>596.0</td>\n",
       "      <td>Brian Stann</td>\n",
       "      <td>175.67</td>\n",
       "      <td>350196</td>\n",
       "      <td>3424</td>\n",
       "      <td>152</td>\n",
       "      <td>22.53</td>\n",
       "    </tr>\n",
       "    <tr>\n",
       "      <th>2017-07-26</th>\n",
       "      <td>988.0</td>\n",
       "      <td>Nick Swardson</td>\n",
       "      <td>156.20</td>\n",
       "      <td>1926812</td>\n",
       "      <td>15580</td>\n",
       "      <td>1626</td>\n",
       "      <td>9.58</td>\n",
       "    </tr>\n",
       "    <tr>\n",
       "      <th>2015-07-29</th>\n",
       "      <td>675.0</td>\n",
       "      <td>Kirik Jenness &amp; Chris Palmquist</td>\n",
       "      <td>167.50</td>\n",
       "      <td>162572</td>\n",
       "      <td>1221</td>\n",
       "      <td>86</td>\n",
       "      <td>14.20</td>\n",
       "    </tr>\n",
       "    <tr>\n",
       "      <th>2015-05-05</th>\n",
       "      <td>643.0</td>\n",
       "      <td>“Big” Jay Oakerson</td>\n",
       "      <td>178.67</td>\n",
       "      <td>277785</td>\n",
       "      <td>2018</td>\n",
       "      <td>140</td>\n",
       "      <td>14.41</td>\n",
       "    </tr>\n",
       "    <tr>\n",
       "      <th>2019-04-30</th>\n",
       "      <td>1286.0</td>\n",
       "      <td>Anthony Jeselnik</td>\n",
       "      <td>131.37</td>\n",
       "      <td>1818364</td>\n",
       "      <td>17576</td>\n",
       "      <td>1709</td>\n",
       "      <td>10.28</td>\n",
       "    </tr>\n",
       "    <tr>\n",
       "      <th>2019-02-20</th>\n",
       "      <td>1249.0</td>\n",
       "      <td>Donnell Rawlings</td>\n",
       "      <td>164.10</td>\n",
       "      <td>1249225</td>\n",
       "      <td>17408</td>\n",
       "      <td>1143</td>\n",
       "      <td>15.23</td>\n",
       "    </tr>\n",
       "    <tr>\n",
       "      <th>2019-05-14</th>\n",
       "      <td>1295.0</td>\n",
       "      <td>Tulsi Gabbard</td>\n",
       "      <td>154.80</td>\n",
       "      <td>2085641</td>\n",
       "      <td>48972</td>\n",
       "      <td>5773</td>\n",
       "      <td>8.48</td>\n",
       "    </tr>\n",
       "    <tr>\n",
       "      <th>2013-01-21</th>\n",
       "      <td>115.0</td>\n",
       "      <td>Maz Jobrani, Brian Redban</td>\n",
       "      <td>130.30</td>\n",
       "      <td>10364</td>\n",
       "      <td>137</td>\n",
       "      <td>6</td>\n",
       "      <td>22.83</td>\n",
       "    </tr>\n",
       "  </tbody>\n",
       "</table>\n",
       "</div>"
      ],
      "text/plain": [
       "                ep                         ep_title  runtime    views  likes  \\\n",
       "airdate                                                                        \n",
       "2019-06-06    67.0                        Kevin Lee   126.95   953635   9756   \n",
       "2018-02-12  1077.0                      Johann Hari   152.42  1029507  14081   \n",
       "2015-01-08   596.0                      Brian Stann   175.67   350196   3424   \n",
       "2017-07-26   988.0                    Nick Swardson   156.20  1926812  15580   \n",
       "2015-07-29   675.0  Kirik Jenness & Chris Palmquist   167.50   162572   1221   \n",
       "2015-05-05   643.0               “Big” Jay Oakerson   178.67   277785   2018   \n",
       "2019-04-30  1286.0                 Anthony Jeselnik   131.37  1818364  17576   \n",
       "2019-02-20  1249.0                 Donnell Rawlings   164.10  1249225  17408   \n",
       "2019-05-14  1295.0                    Tulsi Gabbard   154.80  2085641  48972   \n",
       "2013-01-21   115.0        Maz Jobrani, Brian Redban   130.30    10364    137   \n",
       "\n",
       "            dislikes  ratio  \n",
       "airdate                      \n",
       "2019-06-06      1024   9.53  \n",
       "2018-02-12      1611   8.74  \n",
       "2015-01-08       152  22.53  \n",
       "2017-07-26      1626   9.58  \n",
       "2015-07-29        86  14.20  \n",
       "2015-05-05       140  14.41  \n",
       "2019-04-30      1709  10.28  \n",
       "2019-02-20      1143  15.23  \n",
       "2019-05-14      5773   8.48  \n",
       "2013-01-21         6  22.83  "
      ]
     },
     "execution_count": 153,
     "metadata": {},
     "output_type": "execute_result"
    }
   ],
   "source": [
    "df.sample(10)"
   ]
  },
  {
   "cell_type": "code",
   "execution_count": 154,
   "metadata": {},
   "outputs": [
    {
     "data": {
      "text/html": [
       "<div>\n",
       "<style scoped>\n",
       "    .dataframe tbody tr th:only-of-type {\n",
       "        vertical-align: middle;\n",
       "    }\n",
       "\n",
       "    .dataframe tbody tr th {\n",
       "        vertical-align: top;\n",
       "    }\n",
       "\n",
       "    .dataframe thead th {\n",
       "        text-align: right;\n",
       "    }\n",
       "</style>\n",
       "<table border=\"1\" class=\"dataframe\">\n",
       "  <thead>\n",
       "    <tr style=\"text-align: right;\">\n",
       "      <th></th>\n",
       "      <th>ep</th>\n",
       "      <th>ep_title</th>\n",
       "      <th>tag</th>\n",
       "      <th>runtime</th>\n",
       "      <th>views</th>\n",
       "      <th>likes</th>\n",
       "      <th>dislikes</th>\n",
       "      <th>ratio</th>\n",
       "    </tr>\n",
       "    <tr>\n",
       "      <th>airdate</th>\n",
       "      <th></th>\n",
       "      <th></th>\n",
       "      <th></th>\n",
       "      <th></th>\n",
       "      <th></th>\n",
       "      <th></th>\n",
       "      <th></th>\n",
       "      <th></th>\n",
       "    </tr>\n",
       "  </thead>\n",
       "  <tbody>\n",
       "    <tr>\n",
       "      <th>2018-05-23</th>\n",
       "      <td>28.0</td>\n",
       "      <td>Georges St-Pierre</td>\n",
       "      <td>athletes-fighters</td>\n",
       "      <td>182.37</td>\n",
       "      <td>3000670</td>\n",
       "      <td>48448</td>\n",
       "      <td>1553</td>\n",
       "      <td>31.20</td>\n",
       "    </tr>\n",
       "    <tr>\n",
       "      <th>2018-02-09</th>\n",
       "      <td>1075.0</td>\n",
       "      <td>Duncan Trussell</td>\n",
       "      <td>comedians</td>\n",
       "      <td>208.30</td>\n",
       "      <td>2831470</td>\n",
       "      <td>27584</td>\n",
       "      <td>2278</td>\n",
       "      <td>12.11</td>\n",
       "    </tr>\n",
       "    <tr>\n",
       "      <th>2014-09-10</th>\n",
       "      <td>547.0</td>\n",
       "      <td>Joe DeRosa</td>\n",
       "      <td>writers</td>\n",
       "      <td>170.72</td>\n",
       "      <td>78523</td>\n",
       "      <td>637</td>\n",
       "      <td>567</td>\n",
       "      <td>1.12</td>\n",
       "    </tr>\n",
       "    <tr>\n",
       "      <th>2016-05-17</th>\n",
       "      <td>800.0</td>\n",
       "      <td>Bobcat Goldthwait</td>\n",
       "      <td>actors</td>\n",
       "      <td>147.92</td>\n",
       "      <td>737560</td>\n",
       "      <td>5939</td>\n",
       "      <td>444</td>\n",
       "      <td>13.38</td>\n",
       "    </tr>\n",
       "    <tr>\n",
       "      <th>2019-04-06</th>\n",
       "      <td>1278.0</td>\n",
       "      <td>Kevin Hart</td>\n",
       "      <td>comedians</td>\n",
       "      <td>124.87</td>\n",
       "      <td>6471237</td>\n",
       "      <td>133235</td>\n",
       "      <td>4631</td>\n",
       "      <td>28.77</td>\n",
       "    </tr>\n",
       "    <tr>\n",
       "      <th>2013-06-01</th>\n",
       "      <td>255.0</td>\n",
       "      <td>Duncan Trussell</td>\n",
       "      <td>comedians</td>\n",
       "      <td>180.02</td>\n",
       "      <td>92135</td>\n",
       "      <td>922</td>\n",
       "      <td>47</td>\n",
       "      <td>19.62</td>\n",
       "    </tr>\n",
       "    <tr>\n",
       "      <th>2016-03-08</th>\n",
       "      <td>770.0</td>\n",
       "      <td>Michael Shermer</td>\n",
       "      <td>writers</td>\n",
       "      <td>179.40</td>\n",
       "      <td>342352</td>\n",
       "      <td>2798</td>\n",
       "      <td>377</td>\n",
       "      <td>7.42</td>\n",
       "    </tr>\n",
       "    <tr>\n",
       "      <th>2015-08-07</th>\n",
       "      <td>679.0</td>\n",
       "      <td>Barry Crimmins &amp; Bobcat Goldthwait</td>\n",
       "      <td>actors</td>\n",
       "      <td>92.37</td>\n",
       "      <td>144148</td>\n",
       "      <td>1462</td>\n",
       "      <td>76</td>\n",
       "      <td>19.24</td>\n",
       "    </tr>\n",
       "    <tr>\n",
       "      <th>2013-12-04</th>\n",
       "      <td>424.0</td>\n",
       "      <td>Brody Stevens</td>\n",
       "      <td>actors</td>\n",
       "      <td>161.50</td>\n",
       "      <td>151461</td>\n",
       "      <td>1361</td>\n",
       "      <td>114</td>\n",
       "      <td>11.94</td>\n",
       "    </tr>\n",
       "    <tr>\n",
       "      <th>2017-11-30</th>\n",
       "      <td>1046.0</td>\n",
       "      <td>Owen Smith</td>\n",
       "      <td>actors</td>\n",
       "      <td>118.02</td>\n",
       "      <td>545842</td>\n",
       "      <td>6098</td>\n",
       "      <td>453</td>\n",
       "      <td>13.46</td>\n",
       "    </tr>\n",
       "  </tbody>\n",
       "</table>\n",
       "</div>"
      ],
      "text/plain": [
       "                ep                            ep_title                tag  \\\n",
       "airdate                                                                     \n",
       "2018-05-23    28.0                   Georges St-Pierre  athletes-fighters   \n",
       "2018-02-09  1075.0                     Duncan Trussell          comedians   \n",
       "2014-09-10   547.0                          Joe DeRosa            writers   \n",
       "2016-05-17   800.0                   Bobcat Goldthwait             actors   \n",
       "2019-04-06  1278.0                          Kevin Hart          comedians   \n",
       "2013-06-01   255.0                     Duncan Trussell          comedians   \n",
       "2016-03-08   770.0                     Michael Shermer            writers   \n",
       "2015-08-07   679.0  Barry Crimmins & Bobcat Goldthwait             actors   \n",
       "2013-12-04   424.0                       Brody Stevens             actors   \n",
       "2017-11-30  1046.0                          Owen Smith             actors   \n",
       "\n",
       "            runtime    views   likes  dislikes  ratio  \n",
       "airdate                                                \n",
       "2018-05-23   182.37  3000670   48448      1553  31.20  \n",
       "2018-02-09   208.30  2831470   27584      2278  12.11  \n",
       "2014-09-10   170.72    78523     637       567   1.12  \n",
       "2016-05-17   147.92   737560    5939       444  13.38  \n",
       "2019-04-06   124.87  6471237  133235      4631  28.77  \n",
       "2013-06-01   180.02    92135     922        47  19.62  \n",
       "2016-03-08   179.40   342352    2798       377   7.42  \n",
       "2015-08-07    92.37   144148    1462        76  19.24  \n",
       "2013-12-04   161.50   151461    1361       114  11.94  \n",
       "2017-11-30   118.02   545842    6098       453  13.46  "
      ]
     },
     "execution_count": 154,
     "metadata": {},
     "output_type": "execute_result"
    }
   ],
   "source": [
    "dft.sample(10)"
   ]
  },
  {
   "cell_type": "code",
   "execution_count": 166,
   "metadata": {},
   "outputs": [
    {
     "data": {
      "application/vnd.jupyter.widget-view+json": {
       "model_id": "5e0126e9c53b4fc9bc557505503279ed",
       "version_major": 2,
       "version_minor": 0
      },
      "text/plain": [
       "interactive(children=(Checkbox(value=False, description='DropOutliers'), Output()), _dom_classes=('widget-inte…"
      ]
     },
     "metadata": {},
     "output_type": "display_data"
    }
   ],
   "source": [
    "# plot time series of views\n",
    "# need to format the plot.  label y axis, and get more tick marks, maybe...\n",
    "cols = ['views', 'likes', 'dislikes']\n",
    "ylabels = ['Views (10 Mil)', 'Likes', 'Dislikes']\n",
    "@interact\n",
    "def ts(DropOutliers = False):\n",
    "    if DropOutliers:\n",
    "        dfs = df_or\n",
    "    else:\n",
    "        dfs = df\n",
    "    axes = dfs[cols].plot(marker='.', title = 'Number of Views Since the Beginning of the Podcast', figsize=(15,10), subplots = True, legend = False, grid = True)\n",
    "    # There are a few spikes that are interesting.  Who are these people receving so many views?\n",
    "    plt.subplots_adjust(top=.95, left=.25)\n",
    "    #plt.ylabel(['Dislikes', 'Likes', 'Views (10 Mil)'])\n",
    "    i = 0\n",
    "    for ax in axes:\n",
    "        ax.set_ylabel(ylabels[i])\n",
    "        ax.set_xlabel('Air Date')\n",
    "        i += 1\n",
    "    "
   ]
  },
  {
   "cell_type": "code",
   "execution_count": 156,
   "metadata": {
    "scrolled": false
   },
   "outputs": [
    {
     "data": {
      "application/vnd.jupyter.widget-view+json": {
       "model_id": "72622c73958146598eda374c44af03ec",
       "version_major": 2,
       "version_minor": 0
      },
      "text/plain": [
       "interactive(children=(Checkbox(value=False, description='DropOutliers'), Checkbox(value=False, description='La…"
      ]
     },
     "metadata": {},
     "output_type": "display_data"
    }
   ],
   "source": [
    "#Histogram\n",
    "col_list = ['views', 'likes', 'dislikes', 'ratio', 'runtime']\n",
    "@interact\n",
    "def histogram_by_col(DropOutliers = False, LastTwoYears = False, Columns=col_list):\n",
    "    if LastTwoYears:\n",
    "        start_date = '2017-06'\n",
    "    else:\n",
    "        start_date = '2013-01-15'\n",
    "    if DropOutliers:\n",
    "        dfthist = dft_or\n",
    "    else:\n",
    "        dfthist = dft \n",
    "    fs = 15\n",
    "    axes = dfthist[start_date:'2019-07-04'][Columns].hist( color = 'c',figsize=(8,8))\n",
    "    axes.set_ylabel('Count', fontsize = fs)\n",
    "    axes.set_xlabel(Columns, fontsize = fs)\n",
    "#     axes.set_title(Columns, fontsize=fs)\n",
    "    "
   ]
  },
  {
   "cell_type": "code",
   "execution_count": 201,
   "metadata": {
    "scrolled": false
   },
   "outputs": [
    {
     "data": {
      "application/vnd.jupyter.widget-view+json": {
       "model_id": "dd87df32cfd84bb38eeea2a7355c3342",
       "version_major": 2,
       "version_minor": 0
      },
      "text/plain": [
       "interactive(children=(IntSlider(value=4, description='x', max=7, min=1), Output()), _dom_classes=('widget-inte…"
      ]
     },
     "metadata": {},
     "output_type": "display_data"
    }
   ],
   "source": [
    "@interact\n",
    "def ep_views(x=(1,7)):\n",
    "    yr_lower = slide_switch(x)\n",
    "    yr_upper = slide_switch(x+1)\n",
    "    # attempting to get two plots side by side.\n",
    "    fig, (ax, ax2) = plt.subplots(ncols=2, figsize=(20,10))\n",
    "\n",
    "    n = 10\n",
    "    ep_count = dft[yr_lower:yr_upper].groupby('tag').ep_title.count().nlargest(n)\n",
    "    avg_views = dft[yr_lower:yr_upper].groupby('tag').views.mean().nlargest(n)\n",
    "\n",
    "\n",
    "\n",
    "    ax.axes.set_title('{} Top {} Number of Episodes by Category'.format(yr_lower,n), fontsize=fs+2)\n",
    "    ax.axes.set_xlabel('Number of Episodes', fontsize = fs)\n",
    "\n",
    "    viewlim = 18e5\n",
    "    ax2.axes.set_title('{} Top {} Average Number of Views by Category'.format(yr_lower,n), fontsize=fs+2)\n",
    "    #ax2.axes.set_xticks([viewlim/2, viewlim])\n",
    "    #ax2.axes.set_xlim((min(avg_views), max(avg_views)))\n",
    "    ax2.axes.ticklabel_format(axis='x', style='sci', scilimits=(6,6))\n",
    "    ax2.axes.set_xlabel('Number of Views in Millions', fontsize=fs)\n",
    "\n",
    "\n",
    "\n",
    "    ep_count.sort_values(ascending=True).plot(kind='barh', x='LABEL',  legend=False, ax=ax, fontsize = fs+5, color='b')\n",
    "    avg_views.sort_values(ascending=True).plot(kind='barh', x='LABEL',ax=ax2, fontsize = fs+5, color='c')\n",
    "    plt.tight_layout()\n",
    "    plt.show()"
   ]
  },
  {
   "cell_type": "code",
   "execution_count": 222,
   "metadata": {},
   "outputs": [
    {
     "data": {
      "application/vnd.jupyter.widget-view+json": {
       "model_id": "4be90be1b7b34860ab7ac7971b56a3b5",
       "version_major": 2,
       "version_minor": 0
      },
      "text/plain": [
       "interactive(children=(IntSlider(value=4, description='x', max=7, min=1), Output()), _dom_classes=('widget-inte…"
      ]
     },
     "metadata": {},
     "output_type": "display_data"
    }
   ],
   "source": [
    "# get a count of episodes per category\n",
    "@interact\n",
    "def ep_count_by_cat(x=(1,7)):\n",
    "    \n",
    "    yr_lower = slide_switch(x)\n",
    "    yr_upper = slide_switch(x+1)\n",
    "    fs = 15\n",
    "    axes = dft[yr_lower:yr_upper].groupby('tag').ep_title.count().sort_values(ascending=True).plot.barh(color = 'c', fontsize = fs, figsize=(10,10))\n",
    "    axes.set_ylabel('Category', fontsize = fs)\n",
    "    axes.set_xlabel('Episode Count', fontsize = fs)\n",
    "    axes.set_title('{} Number of Episodes by Category'.format(yr_lower), fontsize=fs)"
   ]
  },
  {
   "cell_type": "code",
   "execution_count": 176,
   "metadata": {
    "scrolled": false
   },
   "outputs": [
    {
     "data": {
      "application/vnd.jupyter.widget-view+json": {
       "model_id": "d1243cba9aca4d61ba8171946eec0222",
       "version_major": 2,
       "version_minor": 0
      },
      "text/plain": [
       "interactive(children=(Checkbox(value=False, description='DropOutliers'), IntSlider(value=4, description='x', m…"
      ]
     },
     "metadata": {},
     "output_type": "display_data"
    }
   ],
   "source": [
    "# barplot \n",
    "\n",
    "@interact\n",
    "def barplot_views_by_cat(DropOutliers = False, x=(1,7)):\n",
    "    yr_lower = slide_switch(x)\n",
    "    yr_upper = slide_switch(x+1)\n",
    "    \n",
    "    if DropOutliers:\n",
    "        dftbar = dft_or\n",
    "    else:\n",
    "        dftbar = dft \n",
    "    fs = 15\n",
    "    axes = dftbar[yr_lower:yr_upper].groupby('tag').views.mean().sort_values(ascending=True).plot.barh(color = 'c', fontsize = 15, figsize=(10,10))\n",
    "    axes.set_ylabel('Guest', fontsize = fs)\n",
    "    axes.set_xlabel('Views', fontsize = fs)\n",
    "    axes.set_title('{} Views by Category'.format(yr_lower), fontsize=fs)\n",
    "    "
   ]
  },
  {
   "cell_type": "code",
   "execution_count": 275,
   "metadata": {
    "scrolled": false
   },
   "outputs": [
    {
     "data": {
      "application/vnd.jupyter.widget-view+json": {
       "model_id": "fb7cd0d1591c4bc8bad5a3bf21d10d34",
       "version_major": 2,
       "version_minor": 0
      },
      "text/plain": [
       "interactive(children=(Dropdown(description='column', options=('views', 'likes', 'dislikes', 'ratio', 'runtime'…"
      ]
     },
     "metadata": {},
     "output_type": "display_data"
    }
   ],
   "source": [
    "\n",
    "\n",
    "\n",
    "# I want to choose a column from col list and display box plots from specific tags on the same plot.\n",
    "dft_or = dft[tmask_or]\n",
    "# how do i select columns for this...?\n",
    "col_list = ['views', 'likes', 'dislikes', 'ratio', 'runtime']\n",
    "\n",
    "\n",
    "tag = ['politics', 'athletes-fighters', 'authors', 'comedians', 'filmmakers', 'health', 'journalists', 'miscellaneous', 'musicians', 'politics', 'writers']\n",
    "\n",
    "@interact\n",
    "def box_plots_by_col(column=col_list, WithOutliers=False, ShowFliers = False, LastTwoYears = False, FirstTwoYears = False):\n",
    "    \n",
    "    if FirstTwoYears:\n",
    "        start_date='2013-01-15'\n",
    "        end_date='2015-01'\n",
    "        title_string = 'Distributions Within %s For First Two Years'%(column.capitalize())\n",
    "    else:\n",
    "        start_date='2013-01-15'\n",
    "        end_date='2019-07-04'\n",
    "        title_string = 'Distributions Within %s'%(column.capitalize())\n",
    "    if LastTwoYears:\n",
    "        start_date = '2017-06'\n",
    "        end_date='2019-07-04'\n",
    "        title_string = 'Distributions Within %s For Last Two Years'%(column.capitalize())\n",
    "    else:\n",
    "        start_date = '2013-01-15'\n",
    "        end_date='2019-07-04'\n",
    "        title_string = 'Distributions Within %s'%(column.capitalize())\n",
    "    if WithOutliers:\n",
    "        dftbox=dft\n",
    "    else:\n",
    "        dftbox=dft_or\n",
    "    cat = tags_with_thirty(start_date,end_date)\n",
    "        \n",
    "    fs = 17\n",
    "    axes = dftbox[dftbox.tag.isin(cat)][start_date:end_date].boxplot(showfliers = ShowFliers, by = 'tag', column=column, figsize=(20,7), fontsize = fs)\n",
    "    axes.set_ylim(0,)\n",
    "    axes.set_title(title_string, fontsize = fs)\n",
    "    axes.set_ylabel('Count', fontsize = fs)\n",
    "    axes.set_xlabel('Category', fontsize = fs)\n",
    "    return axes\n",
    "\n"
   ]
  },
  {
   "cell_type": "code",
   "execution_count": 279,
   "metadata": {},
   "outputs": [
    {
     "data": {
      "application/vnd.jupyter.widget-view+json": {
       "model_id": "941b2ec85c3a4888967636be23a1b8aa",
       "version_major": 2,
       "version_minor": 0
      },
      "text/plain": [
       "interactive(children=(Dropdown(description='column', options=('views', 'likes', 'dislikes', 'ratio', 'runtime'…"
      ]
     },
     "metadata": {},
     "output_type": "display_data"
    }
   ],
   "source": [
    "# compare boxplots by year.\n",
    "\n",
    "# return list of tags which have 30 episodes or more in the count for that year interval:\n",
    "\n",
    "\n",
    "@interact\n",
    "def box_plots_by_col(column=col_list, WithOutliers=False, ShowFliers = False, x=(1,7)):\n",
    "    yr_lower = slide_switch(x)\n",
    "    yr_upper = slide_switch(x+1)\n",
    "    cat = tags_with_thirty(yr_lower, yr_upper)\n",
    "    \n",
    "    \n",
    "    if WithOutliers:\n",
    "        dftbox=dft\n",
    "    else:\n",
    "        dftbox=dft_or\n",
    "        \n",
    "    fs = 17\n",
    "    axes = dftbox[dftbox.tag.isin(cat)][yr_lower:yr_upper].boxplot(showfliers = ShowFliers, by = 'tag', column=column, figsize=(20,7), fontsize = fs)\n",
    "    axes.set_ylim(0,)\n",
    "    axes.set_title('{} Distributions Within %s'.format(yr_lower)%(column.capitalize()), fontsize = fs)\n",
    "    axes.set_ylabel('Count', fontsize = fs)\n",
    "    axes.set_xlabel('Category', fontsize = fs)\n",
    "    return axes"
   ]
  },
  {
   "cell_type": "code",
   "execution_count": 162,
   "metadata": {},
   "outputs": [
    {
     "data": {
      "application/vnd.jupyter.widget-view+json": {
       "model_id": "89ec58b430d3480c849fd3b7582b4123",
       "version_major": 2,
       "version_minor": 0
      },
      "text/plain": [
       "interactive(children=(Dropdown(description='category', options=('writers', 'musicians', 'politics', 'models', …"
      ]
     },
     "metadata": {},
     "output_type": "display_data"
    }
   ],
   "source": [
    "dft_or = dft[tmask_or]\n",
    "tag = ['politics', 'athletes-fighters', 'authors', 'comedians', 'filmmakers', 'health', 'journalists', 'miscellaneous', 'musicians', 'politics', 'writers']\n",
    "\n",
    "\n",
    "@interact\n",
    "\n",
    "def box_plots(category=dft_or.tag.unique().tolist(), WithOutliers=False, ShowFliers = False):\n",
    "    if WithOutliers:\n",
    "        dftbox=dft\n",
    "    else:\n",
    "        dftbox=dft_or\n",
    "    tag = category\n",
    "    \n",
    "    the_plot = dftbox[dftbox.tag.isin([tag])].plot(showfliers = ShowFliers, title = 'Distributions Within %s'%(tag.capitalize()), fontsize=15,  y = col_list, kind='box', layout = (2,3), subplots = True, figsize = (20,8))\n",
    "    return the_plot"
   ]
  },
  {
   "cell_type": "code",
   "execution_count": 167,
   "metadata": {},
   "outputs": [
    {
     "data": {
      "application/vnd.jupyter.widget-view+json": {
       "model_id": "7b580ab3d1ef4f51b863ac19ea94cbd8",
       "version_major": 2,
       "version_minor": 0
      },
      "text/plain": [
       "interactive(children=(Dropdown(description='column', options=('views', 'likes', 'dislikes', 'ratio', 'runtime'…"
      ]
     },
     "metadata": {},
     "output_type": "display_data"
    }
   ],
   "source": [
    "#set up interact to get top views..\n",
    "col_list = ['views', 'likes', 'dislikes', 'ratio', 'runtime']\n",
    "@interact\n",
    "def horz_bar_plot(column = col_list, n=(1, 50), DropOutliers = False):\n",
    "    if DropOutliers:\n",
    "        dfbar = df_or\n",
    "    else:\n",
    "        dfbar = df \n",
    "    \n",
    "    if n > 30:\n",
    "        fs = n/2\n",
    "    else:\n",
    "        fs = 12\n",
    "    axes = dfbar.nlargest(n, column).groupby('ep_title')[column].max().sort_values(ascending=True).plot.barh(fontsize=fs, color='b', figsize=(5,fs/2))\n",
    "    axes.set_ylabel('Guest', fontsize = fs)\n",
    "    axes.set_xlabel(column.capitalize(), fontsize = fs)\n",
    "    axes.set_title('Top {} Guests by Number of {}'.format(n, column.capitalize()), fontsize=fs)\n",
    "    "
   ]
  },
  {
   "cell_type": "markdown",
   "metadata": {},
   "source": [
    "Further work:\n",
    "-Explore transformation techniques, especially when dealing with the left-skewed plots.\n",
    "-Consolidate some of the categories.\n",
    "-Add visualization to illustrate the increase in podcast listeners since the beginning of JRE\n",
    "-Explore transcripts for nlp\n",
    "-explore the sentiment of extreme values of likes or dislikes over social media comments\n",
    "-implement stat test to test amongst variables"
   ]
  },
  {
   "cell_type": "code",
   "execution_count": null,
   "metadata": {},
   "outputs": [],
   "source": []
  }
 ],
 "metadata": {
  "kernelspec": {
   "display_name": "Python 3",
   "language": "python",
   "name": "python3"
  },
  "language_info": {
   "codemirror_mode": {
    "name": "ipython",
    "version": 3
   },
   "file_extension": ".py",
   "mimetype": "text/x-python",
   "name": "python",
   "nbconvert_exporter": "python",
   "pygments_lexer": "ipython3",
   "version": "3.7.1"
  }
 },
 "nbformat": 4,
 "nbformat_minor": 2
}
