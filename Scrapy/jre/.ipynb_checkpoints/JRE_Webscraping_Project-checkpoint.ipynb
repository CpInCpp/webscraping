{
 "cells": [
  {
   "cell_type": "code",
   "execution_count": 43,
   "metadata": {},
   "outputs": [
    {
     "data": {
      "text/html": [
       "<script>\n",
       "code_show=true; \n",
       "function code_toggle() {\n",
       " if (code_show){\n",
       " $('div.input').hide();\n",
       " } else {\n",
       " $('div.input').show();\n",
       " }\n",
       " code_show = !code_show\n",
       "} \n",
       "$( document ).ready(code_toggle);\n",
       "</script>\n",
       "The raw code for this IPython notebook is by default hidden for easier reading.\n",
       "To toggle on/off the raw code, click <a href=\"javascript:code_toggle()\">here</a>."
      ],
      "text/plain": [
       "<IPython.core.display.HTML object>"
      ]
     },
     "execution_count": 43,
     "metadata": {},
     "output_type": "execute_result"
    }
   ],
   "source": [
    "# this code will hide the coding cells..\n",
    "HTML('''<script>\n",
    "code_show=true; \n",
    "function code_toggle() {\n",
    " if (code_show){\n",
    " $('div.input').hide();\n",
    " } else {\n",
    " $('div.input').show();\n",
    " }\n",
    " code_show = !code_show\n",
    "} \n",
    "$( document ).ready(code_toggle);\n",
    "</script>\n",
    "The raw code for this IPython notebook is by default hidden for easier reading.\n",
    "To toggle on/off the raw code, click <a href=\"javascript:code_toggle()\">here</a>.''')"
   ]
  },
  {
   "cell_type": "code",
   "execution_count": 54,
   "metadata": {},
   "outputs": [],
   "source": [
    "# import \n",
    "import pandas as pd\n",
    "import numpy as np\n",
    "from matplotlib import pyplot as plt\n",
    "from IPython.display import HTML\n",
    "from scipy import stats\n",
    "import ipywidgets as widgets\n",
    "from ipywidgets import interact, interact_manual\n",
    "import datetime as dt\n",
    "df = pd.read_csv('c:/users/nanot/webscraping/scrapy/jre/data_clean/jre2_clean.csv')"
   ]
  },
  {
   "cell_type": "code",
   "execution_count": 55,
   "metadata": {},
   "outputs": [],
   "source": [
    "# a few cleaning bits..\n",
    "# change the name of the tag, 'atheletes-fighters-martial-arts' to something else...\n",
    "df['tag'] = df.tag.str.replace('athletes-fighters-martial-arts', 'athletes-fighters')\n",
    "# get rid of the episode number from the title\n",
    "df['ep_title'] = df.ep_title.str.replace('\\\\#\\d{1,4}- ', '')\n",
    "# drop 'best of' episodes, episodes less than 55 min, and fight companion episodes..\n",
    "mask1 = ~df.ep_title.str.contains('Best of')\n",
    "mask2 = df.runtime > 55\n",
    "mask3 = ~df.ep_title.str.contains('Fight Companion')\n",
    "df = df[mask1&mask2&mask3]\n",
    "\n",
    "# change the date format using pd.to_datetime(), and then set the airdate as index.\n",
    "df['airdate'] = pd.to_datetime(df.airdate)\n",
    "df = df.set_index('airdate')\n",
    "\n",
    "# create two separate data frames: 1 with no tag column, and one with tag column.  Then drop the duplicates from the dataframe\n",
    "dft = df.copy()\n",
    "df = df.drop('tag', axis = 1)\n",
    "df = df.drop_duplicates()\n",
    "\n",
    "# set universal font size\n",
    "fs = 15"
   ]
  },
  {
   "cell_type": "code",
   "execution_count": 56,
   "metadata": {},
   "outputs": [],
   "source": [
    "# define masks for the data\n",
    "# masks for the outliers of tagless df\n",
    "s = 3\n",
    "mask_outliers_views = (np.abs(stats.zscore(df.views)) > s)\n",
    "mask_outliers_runtime = (np.abs(stats.zscore(df.runtime)) > s)\n",
    "mask_outliers_likes = (np.abs(stats.zscore(df.likes)) > s)\n",
    "mask_outliers_dislikes = (np.abs(stats.zscore(df.dislikes)) > s)\n",
    "mask_outliers_ratio = (np.abs(stats.zscore(df.ratio)) > s)\n",
    "# masks for the outliers of df with tags\n",
    "tmask_outliers_views = (np.abs(stats.zscore(dft.views)) > s)\n",
    "tmask_outliers_runtime = (np.abs(stats.zscore(dft.runtime)) > s)\n",
    "tmask_outliers_likes = (np.abs(stats.zscore(dft.likes)) > s)\n",
    "tmask_outliers_dislikes = (np.abs(stats.zscore(dft.dislikes)) > s)\n",
    "tmask_outliers_ratio = (np.abs(stats.zscore(dft.ratio)) > s)\n",
    "# combos for both dfs\n",
    "mask_or = ~mask_outliers_views & ~mask_outliers_likes & ~mask_outliers_dislikes & ~mask_outliers_ratio # outlier removal mask\n",
    "tmask_or = ~tmask_outliers_views & ~tmask_outliers_likes & ~tmask_outliers_dislikes & ~tmask_outliers_ratio # outlier removal mask for tag df\n",
    "\n",
    "#create time slice for last 2 years..\n",
    "#dft_2ys = dft['2017-06':'2019-06']\n",
    "\n",
    "df_or = df[mask_or]"
   ]
  },
  {
   "cell_type": "code",
   "execution_count": 57,
   "metadata": {},
   "outputs": [],
   "source": [
    "# functions\n",
    "\n",
    "# switch case function to choose year.\n",
    "def slide_switch(x):\n",
    "    if x == 8:\n",
    "        return '2019-07-04'\n",
    "    switcher = {\n",
    "        1: '2013',\n",
    "        2: '2014',\n",
    "        3: '2015',\n",
    "        4: '2016',\n",
    "        5: '2017',\n",
    "        6: '2018',\n",
    "        7: '2019'\n",
    "        }\n",
    "    return switcher[x]\n",
    "\n",
    "# take upper and lower bound for a year and return a list of tags which have more than 30 observations\n",
    "def tags_with_thirty(yr_lower, yr_upper):\n",
    "    return pd.DataFrame(dft[yr_lower:yr_upper].groupby('tag').ep_title.count()[dft[yr_lower:yr_upper].groupby('tag').ep_title.count() >= 30]).reset_index().tag.tolist()\n"
   ]
  },
  {
   "cell_type": "markdown",
   "metadata": {},
   "source": [
    "Analysis of The Joe Rogan Experience Podcast"
   ]
  },
  {
   "cell_type": "markdown",
   "metadata": {},
   "source": [
    "Intro:\n",
    "The Joe Rogan Experience is a popular and unusually structured podcast in which guests sit and casually converse with its host, Joe Rogan.  Being that the show takes on different flavor depending on the guest, I thought it may be interesting to see if there are any obvious statistical differences amongst the many categories that may describe each episode.  But first, I wanted to take a general look at the data collected."
   ]
  },
  {
   "cell_type": "markdown",
   "metadata": {},
   "source": [
    "Dataset:\n",
    "The dataset was scraped from JREpodcast.com--a third-party fan-made website with video links to every episode.  Nearly all entries included data such as title (which includes the guest), duration, number of views, number of likes, number of dislikes, and ratio.  This information wasn't too hard to scrape, but what I really wanted was the category, which proved to be more chanllenging to obtain.  When the scrape was complete, I had two datasets to clean: one with categories and one without."
   ]
  },
  {
   "cell_type": "markdown",
   "metadata": {},
   "source": [
    "Results"
   ]
  },
  {
   "cell_type": "code",
   "execution_count": 58,
   "metadata": {},
   "outputs": [
    {
     "data": {
      "text/html": [
       "<div>\n",
       "<style scoped>\n",
       "    .dataframe tbody tr th:only-of-type {\n",
       "        vertical-align: middle;\n",
       "    }\n",
       "\n",
       "    .dataframe tbody tr th {\n",
       "        vertical-align: top;\n",
       "    }\n",
       "\n",
       "    .dataframe thead th {\n",
       "        text-align: right;\n",
       "    }\n",
       "</style>\n",
       "<table border=\"1\" class=\"dataframe\">\n",
       "  <thead>\n",
       "    <tr style=\"text-align: right;\">\n",
       "      <th></th>\n",
       "      <th>ep</th>\n",
       "      <th>ep_title</th>\n",
       "      <th>runtime</th>\n",
       "      <th>views</th>\n",
       "      <th>likes</th>\n",
       "      <th>dislikes</th>\n",
       "      <th>ratio</th>\n",
       "    </tr>\n",
       "    <tr>\n",
       "      <th>airdate</th>\n",
       "      <th></th>\n",
       "      <th></th>\n",
       "      <th></th>\n",
       "      <th></th>\n",
       "      <th></th>\n",
       "      <th></th>\n",
       "      <th></th>\n",
       "    </tr>\n",
       "  </thead>\n",
       "  <tbody>\n",
       "    <tr>\n",
       "      <th>2017-10-24</th>\n",
       "      <td>1027.0</td>\n",
       "      <td>Courtney Dauwalter</td>\n",
       "      <td>102.65</td>\n",
       "      <td>1368762</td>\n",
       "      <td>18584</td>\n",
       "      <td>829</td>\n",
       "      <td>22.42</td>\n",
       "    </tr>\n",
       "    <tr>\n",
       "      <th>2013-11-14</th>\n",
       "      <td>417.0</td>\n",
       "      <td>Graham Hancock</td>\n",
       "      <td>164.37</td>\n",
       "      <td>629033</td>\n",
       "      <td>6239</td>\n",
       "      <td>327</td>\n",
       "      <td>19.08</td>\n",
       "    </tr>\n",
       "    <tr>\n",
       "      <th>2017-09-14</th>\n",
       "      <td>1011.0</td>\n",
       "      <td>Tom Papa</td>\n",
       "      <td>199.77</td>\n",
       "      <td>734390</td>\n",
       "      <td>5994</td>\n",
       "      <td>1130</td>\n",
       "      <td>5.30</td>\n",
       "    </tr>\n",
       "    <tr>\n",
       "      <th>2014-11-27</th>\n",
       "      <td>580.0</td>\n",
       "      <td>Lewis, from Unbox Therapy</td>\n",
       "      <td>179.47</td>\n",
       "      <td>100229</td>\n",
       "      <td>895</td>\n",
       "      <td>119</td>\n",
       "      <td>7.52</td>\n",
       "    </tr>\n",
       "    <tr>\n",
       "      <th>2016-11-08</th>\n",
       "      <td>869.0</td>\n",
       "      <td>Dave Rubin</td>\n",
       "      <td>209.67</td>\n",
       "      <td>692526</td>\n",
       "      <td>8699</td>\n",
       "      <td>525</td>\n",
       "      <td>16.57</td>\n",
       "    </tr>\n",
       "    <tr>\n",
       "      <th>2014-04-09</th>\n",
       "      <td>482.0</td>\n",
       "      <td>Rob MacCachren &amp; Bud Brutsman</td>\n",
       "      <td>119.28</td>\n",
       "      <td>42373</td>\n",
       "      <td>290</td>\n",
       "      <td>39</td>\n",
       "      <td>7.44</td>\n",
       "    </tr>\n",
       "    <tr>\n",
       "      <th>2013-06-01</th>\n",
       "      <td>258.0</td>\n",
       "      <td>Bryan Callen</td>\n",
       "      <td>159.92</td>\n",
       "      <td>10021</td>\n",
       "      <td>104</td>\n",
       "      <td>5</td>\n",
       "      <td>20.80</td>\n",
       "    </tr>\n",
       "    <tr>\n",
       "      <th>2013-10-17</th>\n",
       "      <td>1.0</td>\n",
       "      <td>Joe Rogan Questions Everything #1 Duncan Truss...</td>\n",
       "      <td>155.33</td>\n",
       "      <td>166736</td>\n",
       "      <td>1307</td>\n",
       "      <td>91</td>\n",
       "      <td>14.36</td>\n",
       "    </tr>\n",
       "    <tr>\n",
       "      <th>2015-12-02</th>\n",
       "      <td>729.0</td>\n",
       "      <td>Jocko Willink</td>\n",
       "      <td>171.52</td>\n",
       "      <td>1822473</td>\n",
       "      <td>21068</td>\n",
       "      <td>1221</td>\n",
       "      <td>17.25</td>\n",
       "    </tr>\n",
       "    <tr>\n",
       "      <th>2014-05-13</th>\n",
       "      <td>499.0</td>\n",
       "      <td>Cenk Uygur</td>\n",
       "      <td>174.38</td>\n",
       "      <td>602106</td>\n",
       "      <td>7148</td>\n",
       "      <td>3797</td>\n",
       "      <td>1.88</td>\n",
       "    </tr>\n",
       "  </tbody>\n",
       "</table>\n",
       "</div>"
      ],
      "text/plain": [
       "                ep                                           ep_title  \\\n",
       "airdate                                                                 \n",
       "2017-10-24  1027.0                                 Courtney Dauwalter   \n",
       "2013-11-14   417.0                                     Graham Hancock   \n",
       "2017-09-14  1011.0                                           Tom Papa   \n",
       "2014-11-27   580.0                          Lewis, from Unbox Therapy   \n",
       "2016-11-08   869.0                                         Dave Rubin   \n",
       "2014-04-09   482.0                      Rob MacCachren & Bud Brutsman   \n",
       "2013-06-01   258.0                                       Bryan Callen   \n",
       "2013-10-17     1.0  Joe Rogan Questions Everything #1 Duncan Truss...   \n",
       "2015-12-02   729.0                                      Jocko Willink   \n",
       "2014-05-13   499.0                                         Cenk Uygur   \n",
       "\n",
       "            runtime    views  likes  dislikes  ratio  \n",
       "airdate                                               \n",
       "2017-10-24   102.65  1368762  18584       829  22.42  \n",
       "2013-11-14   164.37   629033   6239       327  19.08  \n",
       "2017-09-14   199.77   734390   5994      1130   5.30  \n",
       "2014-11-27   179.47   100229    895       119   7.52  \n",
       "2016-11-08   209.67   692526   8699       525  16.57  \n",
       "2014-04-09   119.28    42373    290        39   7.44  \n",
       "2013-06-01   159.92    10021    104         5  20.80  \n",
       "2013-10-17   155.33   166736   1307        91  14.36  \n",
       "2015-12-02   171.52  1822473  21068      1221  17.25  \n",
       "2014-05-13   174.38   602106   7148      3797   1.88  "
      ]
     },
     "execution_count": 58,
     "metadata": {},
     "output_type": "execute_result"
    }
   ],
   "source": [
    "df.sample(10)"
   ]
  },
  {
   "cell_type": "code",
   "execution_count": 59,
   "metadata": {},
   "outputs": [
    {
     "data": {
      "text/html": [
       "<div>\n",
       "<style scoped>\n",
       "    .dataframe tbody tr th:only-of-type {\n",
       "        vertical-align: middle;\n",
       "    }\n",
       "\n",
       "    .dataframe tbody tr th {\n",
       "        vertical-align: top;\n",
       "    }\n",
       "\n",
       "    .dataframe thead th {\n",
       "        text-align: right;\n",
       "    }\n",
       "</style>\n",
       "<table border=\"1\" class=\"dataframe\">\n",
       "  <thead>\n",
       "    <tr style=\"text-align: right;\">\n",
       "      <th></th>\n",
       "      <th>ep</th>\n",
       "      <th>ep_title</th>\n",
       "      <th>tag</th>\n",
       "      <th>runtime</th>\n",
       "      <th>views</th>\n",
       "      <th>likes</th>\n",
       "      <th>dislikes</th>\n",
       "      <th>ratio</th>\n",
       "    </tr>\n",
       "    <tr>\n",
       "      <th>airdate</th>\n",
       "      <th></th>\n",
       "      <th></th>\n",
       "      <th></th>\n",
       "      <th></th>\n",
       "      <th></th>\n",
       "      <th></th>\n",
       "      <th></th>\n",
       "      <th></th>\n",
       "    </tr>\n",
       "  </thead>\n",
       "  <tbody>\n",
       "    <tr>\n",
       "      <th>2014-12-02</th>\n",
       "      <td>581.0</td>\n",
       "      <td>Andreas Antonopoulos</td>\n",
       "      <td>it-game-dev-programming</td>\n",
       "      <td>173.95</td>\n",
       "      <td>140879</td>\n",
       "      <td>1510</td>\n",
       "      <td>56</td>\n",
       "      <td>26.96</td>\n",
       "    </tr>\n",
       "    <tr>\n",
       "      <th>2018-01-10</th>\n",
       "      <td>1061.0</td>\n",
       "      <td>Tom Papa</td>\n",
       "      <td>writers</td>\n",
       "      <td>185.37</td>\n",
       "      <td>737311</td>\n",
       "      <td>5813</td>\n",
       "      <td>540</td>\n",
       "      <td>10.76</td>\n",
       "    </tr>\n",
       "    <tr>\n",
       "      <th>2019-04-27</th>\n",
       "      <td>65.0</td>\n",
       "      <td>Corey Anderson</td>\n",
       "      <td>athletes-fighters</td>\n",
       "      <td>190.87</td>\n",
       "      <td>595436</td>\n",
       "      <td>7490</td>\n",
       "      <td>739</td>\n",
       "      <td>10.14</td>\n",
       "    </tr>\n",
       "    <tr>\n",
       "      <th>2013-02-11</th>\n",
       "      <td>161.0</td>\n",
       "      <td>Bert Kreischer</td>\n",
       "      <td>comedians</td>\n",
       "      <td>177.72</td>\n",
       "      <td>72407</td>\n",
       "      <td>544</td>\n",
       "      <td>41</td>\n",
       "      <td>13.27</td>\n",
       "    </tr>\n",
       "    <tr>\n",
       "      <th>2019-03-19</th>\n",
       "      <td>1266.0</td>\n",
       "      <td>Ben Anderson</td>\n",
       "      <td>journalists</td>\n",
       "      <td>138.60</td>\n",
       "      <td>1194797</td>\n",
       "      <td>15460</td>\n",
       "      <td>1608</td>\n",
       "      <td>9.61</td>\n",
       "    </tr>\n",
       "    <tr>\n",
       "      <th>2018-10-11</th>\n",
       "      <td>1184.0</td>\n",
       "      <td>Roseanne Barr</td>\n",
       "      <td>comedians</td>\n",
       "      <td>133.12</td>\n",
       "      <td>2358787</td>\n",
       "      <td>42870</td>\n",
       "      <td>4071</td>\n",
       "      <td>10.53</td>\n",
       "    </tr>\n",
       "    <tr>\n",
       "      <th>2016-05-31</th>\n",
       "      <td>803.0</td>\n",
       "      <td>Joey Diaz &amp; Lee Syatt</td>\n",
       "      <td>comedians</td>\n",
       "      <td>171.03</td>\n",
       "      <td>2722192</td>\n",
       "      <td>18673</td>\n",
       "      <td>1323</td>\n",
       "      <td>14.11</td>\n",
       "    </tr>\n",
       "    <tr>\n",
       "      <th>2013-03-04</th>\n",
       "      <td>331.0</td>\n",
       "      <td>Dr. Steven Greer</td>\n",
       "      <td>comedians</td>\n",
       "      <td>171.93</td>\n",
       "      <td>1604364</td>\n",
       "      <td>13415</td>\n",
       "      <td>1541</td>\n",
       "      <td>8.71</td>\n",
       "    </tr>\n",
       "    <tr>\n",
       "      <th>2019-01-25</th>\n",
       "      <td>1231.0</td>\n",
       "      <td>Matt Braunger</td>\n",
       "      <td>actors</td>\n",
       "      <td>138.77</td>\n",
       "      <td>764334</td>\n",
       "      <td>6818</td>\n",
       "      <td>1994</td>\n",
       "      <td>3.42</td>\n",
       "    </tr>\n",
       "    <tr>\n",
       "      <th>2019-02-21</th>\n",
       "      <td>1250.0</td>\n",
       "      <td>Johann Hari</td>\n",
       "      <td>writers</td>\n",
       "      <td>179.25</td>\n",
       "      <td>1739417</td>\n",
       "      <td>31766</td>\n",
       "      <td>1804</td>\n",
       "      <td>17.61</td>\n",
       "    </tr>\n",
       "  </tbody>\n",
       "</table>\n",
       "</div>"
      ],
      "text/plain": [
       "                ep               ep_title                      tag  runtime  \\\n",
       "airdate                                                                       \n",
       "2014-12-02   581.0   Andreas Antonopoulos  it-game-dev-programming   173.95   \n",
       "2018-01-10  1061.0               Tom Papa                  writers   185.37   \n",
       "2019-04-27    65.0         Corey Anderson        athletes-fighters   190.87   \n",
       "2013-02-11   161.0         Bert Kreischer                comedians   177.72   \n",
       "2019-03-19  1266.0           Ben Anderson              journalists   138.60   \n",
       "2018-10-11  1184.0          Roseanne Barr                comedians   133.12   \n",
       "2016-05-31   803.0  Joey Diaz & Lee Syatt                comedians   171.03   \n",
       "2013-03-04   331.0       Dr. Steven Greer                comedians   171.93   \n",
       "2019-01-25  1231.0          Matt Braunger                   actors   138.77   \n",
       "2019-02-21  1250.0            Johann Hari                  writers   179.25   \n",
       "\n",
       "              views  likes  dislikes  ratio  \n",
       "airdate                                      \n",
       "2014-12-02   140879   1510        56  26.96  \n",
       "2018-01-10   737311   5813       540  10.76  \n",
       "2019-04-27   595436   7490       739  10.14  \n",
       "2013-02-11    72407    544        41  13.27  \n",
       "2019-03-19  1194797  15460      1608   9.61  \n",
       "2018-10-11  2358787  42870      4071  10.53  \n",
       "2016-05-31  2722192  18673      1323  14.11  \n",
       "2013-03-04  1604364  13415      1541   8.71  \n",
       "2019-01-25   764334   6818      1994   3.42  \n",
       "2019-02-21  1739417  31766      1804  17.61  "
      ]
     },
     "execution_count": 59,
     "metadata": {},
     "output_type": "execute_result"
    }
   ],
   "source": [
    "dft.sample(10)"
   ]
  },
  {
   "cell_type": "code",
   "execution_count": 60,
   "metadata": {},
   "outputs": [
    {
     "data": {
      "application/vnd.jupyter.widget-view+json": {
       "model_id": "e0bd5afaa29c4246b276ce329fc5491b",
       "version_major": 2,
       "version_minor": 0
      },
      "text/plain": [
       "interactive(children=(Checkbox(value=False, description='DropOutliers'), Output()), _dom_classes=('widget-inte…"
      ]
     },
     "metadata": {},
     "output_type": "display_data"
    }
   ],
   "source": [
    "# plot time series of views\n",
    "# need to format the plot.  label y axis, and get more tick marks, maybe...\n",
    "cols = ['views', 'likes', 'dislikes']\n",
    "ylabels = ['Views (10 Mil)', 'Likes', 'Dislikes']\n",
    "@interact\n",
    "def ts(DropOutliers = False):\n",
    "    if DropOutliers:\n",
    "        dfs = df_or\n",
    "    else:\n",
    "        dfs = df\n",
    "    axes = dfs[cols].plot(marker='.', title = 'Number of Views Since the Beginning of the Podcast', figsize=(15,10), subplots = True, legend = False, grid = True)\n",
    "    # There are a few spikes that are interesting.  Who are these people receving so many views?\n",
    "    plt.subplots_adjust(top=.95, left=.25)\n",
    "    #plt.ylabel(['Dislikes', 'Likes', 'Views (10 Mil)'])\n",
    "    i = 0\n",
    "    for ax in axes:\n",
    "        ax.set_ylabel(ylabels[i])\n",
    "        ax.set_xlabel('Air Date')\n",
    "        i += 1\n",
    "    "
   ]
  },
  {
   "cell_type": "code",
   "execution_count": 61,
   "metadata": {
    "scrolled": false
   },
   "outputs": [
    {
     "data": {
      "application/vnd.jupyter.widget-view+json": {
       "model_id": "e861b2ed6ce94e0b9f71ff3c98a02957",
       "version_major": 2,
       "version_minor": 0
      },
      "text/plain": [
       "interactive(children=(Checkbox(value=False, description='DropOutliers'), Checkbox(value=False, description='La…"
      ]
     },
     "metadata": {},
     "output_type": "display_data"
    }
   ],
   "source": [
    "#Histogram\n",
    "col_list = ['views', 'likes', 'dislikes', 'ratio', 'runtime']\n",
    "@interact\n",
    "def histogram_by_col(DropOutliers = False, LastTwoYears = False, Columns=col_list):\n",
    "    if LastTwoYears:\n",
    "        start_date = '2017-06'\n",
    "    else:\n",
    "        start_date = '2013-01-15'\n",
    "    if DropOutliers:\n",
    "        dfthist = dft_or\n",
    "    else:\n",
    "        dfthist = dft \n",
    "    fs = 15\n",
    "    axes = dfthist[start_date:'2019-07-04'][Columns].hist( color = 'c',figsize=(8,8))\n",
    "    axes.set_ylabel('Count', fontsize = fs)\n",
    "    axes.set_xlabel(Columns, fontsize = fs)\n",
    "#     axes.set_title(Columns, fontsize=fs)\n",
    "    "
   ]
  },
  {
   "cell_type": "code",
   "execution_count": 106,
   "metadata": {
    "scrolled": false
   },
   "outputs": [
    {
     "data": {
      "application/vnd.jupyter.widget-view+json": {
       "model_id": "4465bdb9dabb4cc1a7035732a6ff1fb1",
       "version_major": 2,
       "version_minor": 0
      },
      "text/plain": [
       "interactive(children=(IntSlider(value=4, description='x', max=7, min=1), Checkbox(value=True, description='ByY…"
      ]
     },
     "metadata": {},
     "output_type": "display_data"
    }
   ],
   "source": [
    "@interact\n",
    "\n",
    "def ep_views(x=(1,7), ByYear=True):\n",
    "    yr_lower = slide_switch(x)\n",
    "    yr_upper = slide_switch(x+1)\n",
    "    # attempting to get two plots side by side.\n",
    "    fig, (ax, ax2) = plt.subplots(ncols=2, figsize=(20,10))\n",
    "\n",
    "    n = 10\n",
    "    if ByYear:\n",
    "        ep_count = dft[yr_lower:yr_upper].groupby('tag').ep_title.count().nlargest(n)\n",
    "        avg_views = dft[yr_lower:yr_upper].groupby('tag').views.mean().nlargest(n)\n",
    "        title_string1 = '{} Top {} Number of Episodes by Category'.format(yr_lower,n)\n",
    "        title_string2 = '{} Top {} Average Number of Views by Category'.format(yr_lower,n)\n",
    "    else:\n",
    "        ep_count = dft.groupby('tag').ep_title.count().nlargest(n)\n",
    "        avg_views = dft.groupby('tag').views.mean().nlargest(n)\n",
    "        title_string1 = 'Top {} Number of Episodes by Category'.format(n)\n",
    "        title_string2 = 'Top {} Average Number of Views by Category'.format(n)\n",
    "\n",
    "\n",
    "\n",
    "    ax.axes.set_title(title_string1, fontsize=fs+2)\n",
    "    ax.axes.set_xlabel('Number of Episodes', fontsize = fs)\n",
    "\n",
    "    viewlim = 18e5\n",
    "    ax2.axes.set_title(title_string2, fontsize=fs+2)\n",
    "    #ax2.axes.set_xticks([viewlim/2, viewlim])\n",
    "    #ax2.axes.set_xlim((min(avg_views), max(avg_views)))\n",
    "    ax2.axes.ticklabel_format(axis='x', style='sci', scilimits=(6,6))\n",
    "    ax2.axes.set_xlabel('Number of Views in Millions', fontsize=fs)\n",
    "\n",
    "\n",
    "\n",
    "    ep_count.sort_values(ascending=True).plot(kind='barh', x='LABEL',  legend=False, ax=ax, fontsize = fs+5, color='b')\n",
    "    avg_views.sort_values(ascending=True).plot(kind='barh', x='LABEL',ax=ax2, fontsize = fs+5, color='c')\n",
    "    plt.tight_layout()\n",
    "    plt.show()"
   ]
  },
  {
   "cell_type": "code",
   "execution_count": 63,
   "metadata": {},
   "outputs": [
    {
     "data": {
      "application/vnd.jupyter.widget-view+json": {
       "model_id": "ba963a5d38cf46a384fc9e43ff64c2a4",
       "version_major": 2,
       "version_minor": 0
      },
      "text/plain": [
       "interactive(children=(IntSlider(value=4, description='x', max=7, min=1), Output()), _dom_classes=('widget-inte…"
      ]
     },
     "metadata": {},
     "output_type": "display_data"
    }
   ],
   "source": [
    "# get a count of episodes per category\n",
    "@interact\n",
    "def ep_count_by_cat(x=(1,7)):\n",
    "    \n",
    "    yr_lower = slide_switch(x)\n",
    "    yr_upper = slide_switch(x+1)\n",
    "    fs = 15\n",
    "    axes = dft[yr_lower:yr_upper].groupby('tag').ep_title.count().sort_values(ascending=True).plot.barh(color = 'c', fontsize = fs, figsize=(10,10))\n",
    "    axes.set_ylabel('Category', fontsize = fs)\n",
    "    axes.set_xlabel('Episode Count', fontsize = fs)\n",
    "    axes.set_title('{} Number of Episodes by Category'.format(yr_lower), fontsize=fs)"
   ]
  },
  {
   "cell_type": "code",
   "execution_count": 64,
   "metadata": {
    "scrolled": false
   },
   "outputs": [
    {
     "data": {
      "application/vnd.jupyter.widget-view+json": {
       "model_id": "5acb29c9ea584954a193a97b443c90f6",
       "version_major": 2,
       "version_minor": 0
      },
      "text/plain": [
       "interactive(children=(Checkbox(value=False, description='DropOutliers'), IntSlider(value=4, description='x', m…"
      ]
     },
     "metadata": {},
     "output_type": "display_data"
    }
   ],
   "source": [
    "# barplot \n",
    "\n",
    "@interact\n",
    "def barplot_views_by_cat(DropOutliers = False, x=(1,7)):\n",
    "    yr_lower = slide_switch(x)\n",
    "    yr_upper = slide_switch(x+1)\n",
    "    \n",
    "    if DropOutliers:\n",
    "        dftbar = dft_or\n",
    "    else:\n",
    "        dftbar = dft \n",
    "    fs = 15\n",
    "    axes = dftbar[yr_lower:yr_upper].groupby('tag').views.mean().sort_values(ascending=True).plot.barh(color = 'c', fontsize = 15, figsize=(10,10))\n",
    "    axes.set_ylabel('Guest', fontsize = fs)\n",
    "    axes.set_xlabel('Views', fontsize = fs)\n",
    "    axes.set_title('{} Views by Category'.format(yr_lower), fontsize=fs)\n",
    "    "
   ]
  },
  {
   "cell_type": "code",
   "execution_count": 65,
   "metadata": {
    "scrolled": false
   },
   "outputs": [
    {
     "data": {
      "application/vnd.jupyter.widget-view+json": {
       "model_id": "5073854d2f9e49d7888ee279ff1406db",
       "version_major": 2,
       "version_minor": 0
      },
      "text/plain": [
       "interactive(children=(Dropdown(description='column', options=('views', 'likes', 'dislikes', 'ratio', 'runtime'…"
      ]
     },
     "metadata": {},
     "output_type": "display_data"
    }
   ],
   "source": [
    "\n",
    "\n",
    "\n",
    "# I want to choose a column from col list and display box plots from specific tags on the same plot.\n",
    "dft_or = dft[tmask_or]\n",
    "# how do i select columns for this...?\n",
    "col_list = ['views', 'likes', 'dislikes', 'ratio', 'runtime']\n",
    "\n",
    "\n",
    "tag = ['politics', 'athletes-fighters', 'authors', 'comedians', 'filmmakers', 'health', 'journalists', 'miscellaneous', 'musicians', 'politics', 'writers']\n",
    "\n",
    "@interact\n",
    "def box_plots_by_col(column=col_list, WithOutliers=False, ShowFliers = False, LastTwoYears = False, FirstTwoYears = False):\n",
    "    \n",
    "    if FirstTwoYears:\n",
    "        start_date='2013-01-15'\n",
    "        end_date='2015-01'\n",
    "        title_string = 'Distributions Within %s For First Two Years'%(column.capitalize())\n",
    "    else:\n",
    "        start_date='2013-01-15'\n",
    "        end_date='2019-07-04'\n",
    "        title_string = 'Distributions Within %s'%(column.capitalize())\n",
    "    if LastTwoYears:\n",
    "        start_date = '2017-06'\n",
    "        end_date='2019-07-04'\n",
    "        title_string = 'Distributions Within %s For Last Two Years'%(column.capitalize())\n",
    "    else:\n",
    "        start_date = '2013-01-15'\n",
    "        end_date='2019-07-04'\n",
    "        title_string = 'Distributions Within %s'%(column.capitalize())\n",
    "    if WithOutliers:\n",
    "        dftbox=dft\n",
    "    else:\n",
    "        dftbox=dft_or\n",
    "    cat = tags_with_thirty(start_date,end_date)\n",
    "        \n",
    "    fs = 17\n",
    "    axes = dftbox[dftbox.tag.isin(cat)][start_date:end_date].boxplot(showfliers = ShowFliers, by = 'tag', column=column, figsize=(20,7), fontsize = fs)\n",
    "    axes.set_ylim(0,)\n",
    "    axes.set_title(title_string, fontsize = fs)\n",
    "    axes.set_ylabel('Count', fontsize = fs)\n",
    "    axes.set_xlabel('Category', fontsize = fs)\n",
    "    return axes\n",
    "\n"
   ]
  },
  {
   "cell_type": "code",
   "execution_count": 66,
   "metadata": {},
   "outputs": [
    {
     "data": {
      "application/vnd.jupyter.widget-view+json": {
       "model_id": "6e8cc2f42af444b2b8c577c17204f858",
       "version_major": 2,
       "version_minor": 0
      },
      "text/plain": [
       "interactive(children=(Dropdown(description='column', options=('views', 'likes', 'dislikes', 'ratio', 'runtime'…"
      ]
     },
     "metadata": {},
     "output_type": "display_data"
    }
   ],
   "source": [
    "# compare boxplots by year.\n",
    "\n",
    "# return list of tags which have 30 episodes or more in the count for that year interval:\n",
    "\n",
    "\n",
    "@interact\n",
    "def box_plots_by_col(column=col_list, WithOutliers=False, ShowFliers = False, x=(1,7)):\n",
    "    yr_lower = slide_switch(x)\n",
    "    yr_upper = slide_switch(x+1)\n",
    "    cat = tags_with_thirty(yr_lower, yr_upper)\n",
    "    \n",
    "    \n",
    "    if WithOutliers:\n",
    "        dftbox=dft\n",
    "    else:\n",
    "        dftbox=dft_or\n",
    "        \n",
    "    fs = 17\n",
    "    axes = dftbox[dftbox.tag.isin(cat)][yr_lower:yr_upper].boxplot(showfliers = ShowFliers, by = 'tag', column=column, figsize=(20,7), fontsize = fs)\n",
    "    axes.set_ylim(0,)\n",
    "    axes.set_title('{} Distributions Within %s'.format(yr_lower)%(column.capitalize()), fontsize = fs)\n",
    "    axes.set_ylabel('Count', fontsize = fs)\n",
    "    axes.set_xlabel('Category', fontsize = fs)\n",
    "    return axes"
   ]
  },
  {
   "cell_type": "code",
   "execution_count": 67,
   "metadata": {},
   "outputs": [
    {
     "data": {
      "application/vnd.jupyter.widget-view+json": {
       "model_id": "5474b64e1f7245bfa9ed331015d0c143",
       "version_major": 2,
       "version_minor": 0
      },
      "text/plain": [
       "interactive(children=(Dropdown(description='category', options=('writers', 'musicians', 'politics', 'models', …"
      ]
     },
     "metadata": {},
     "output_type": "display_data"
    }
   ],
   "source": [
    "dft_or = dft[tmask_or]\n",
    "tag = ['politics', 'athletes-fighters', 'authors', 'comedians', 'filmmakers', 'health', 'journalists', 'miscellaneous', 'musicians', 'politics', 'writers']\n",
    "\n",
    "\n",
    "@interact\n",
    "\n",
    "def box_plots(category=dft_or.tag.unique().tolist(), WithOutliers=False, ShowFliers = False):\n",
    "    if WithOutliers:\n",
    "        dftbox=dft\n",
    "    else:\n",
    "        dftbox=dft_or\n",
    "    tag = category\n",
    "    \n",
    "    the_plot = dftbox[dftbox.tag.isin([tag])].plot(showfliers = ShowFliers, title = 'Distributions Within %s'%(tag.capitalize()), fontsize=15,  y = col_list, kind='box', layout = (2,3), subplots = True, figsize = (20,8))\n",
    "    return the_plot"
   ]
  },
  {
   "cell_type": "code",
   "execution_count": 68,
   "metadata": {},
   "outputs": [
    {
     "data": {
      "application/vnd.jupyter.widget-view+json": {
       "model_id": "e19790db61d540eab714b545cec957e6",
       "version_major": 2,
       "version_minor": 0
      },
      "text/plain": [
       "interactive(children=(Dropdown(description='column', options=('views', 'likes', 'dislikes', 'ratio', 'runtime'…"
      ]
     },
     "metadata": {},
     "output_type": "display_data"
    }
   ],
   "source": [
    "#set up interact to get top views..\n",
    "col_list = ['views', 'likes', 'dislikes', 'ratio', 'runtime']\n",
    "@interact\n",
    "def horz_bar_plot(column = col_list, n=(1, 50), DropOutliers = False):\n",
    "    if DropOutliers:\n",
    "        dfbar = df_or\n",
    "    else:\n",
    "        dfbar = df \n",
    "    \n",
    "    if n > 30:\n",
    "        fs = n/2\n",
    "    else:\n",
    "        fs = 12\n",
    "    axes = dfbar.nlargest(n, column).groupby('ep_title')[column].max().sort_values(ascending=True).plot.barh(fontsize=fs, color='b', figsize=(5,fs/2))\n",
    "    axes.set_ylabel('Guest', fontsize = fs)\n",
    "    axes.set_xlabel(column.capitalize(), fontsize = fs)\n",
    "    axes.set_title('Top {} Guests by Number of {}'.format(n, column.capitalize()), fontsize=fs)\n",
    "    "
   ]
  },
  {
   "cell_type": "code",
   "execution_count": 104,
   "metadata": {},
   "outputs": [
    {
     "data": {
      "text/plain": [
       "Text(0.5, 1.0, 'Average Views per Number of Episodes by Category')"
      ]
     },
     "execution_count": 104,
     "metadata": {},
     "output_type": "execute_result"
    },
    {
     "data": {
      "image/png": "[encoded data removed]",
      "text/plain": [
       "<Figure size 720x720 with 1 Axes>"
      ]
     },
     "metadata": {
      "needs_background": "light"
     },
     "output_type": "display_data"
    }
   ],
   "source": [
    "# I need to make a new dataframe indexed by tag with mean values of variables and avg views per number of episodes.\n",
    "dft_tag_count = pd.DataFrame(dft.groupby('tag').ep_title.count())\n",
    "dft_tag_count = pd.concat([dft.groupby('tag').mean(), pd.DataFrame(dft.groupby('tag').ep_title.count())], axis=1)\n",
    "\n",
    "# now drop ep from the columns, because it makes not sense in this context..\n",
    "dft_tag_count = dft_tag_count.drop('ep', axis=1)\n",
    "\n",
    "# rename ep_title to reflect the change.  It is now a count of episodes.\n",
    "dft_tag_count = dft_tag_count.rename(index=str, columns={'ep_title': 'episode_count'})\n",
    "\n",
    "# add the new column to show average number of views per number of episodes in each category.\n",
    "dft_tag_count['views_per_count'] = dft_tag_count.views/dft_tag_count.episode_count\n",
    "\n",
    "# since some categories have very few episodes, I decided to implement a cutoff of at least 30 episodes.\n",
    "mask_30 = dft_tag_count.episode_count >= 30\n",
    "the_plot = dft_tag_count[mask_30].views_per_count.sort_values().plot.barh(figsize = (10,10), fontsize = fs, color='g')\n",
    "the_plot.set_title('Average Views per Number of Episodes by Category', fontsize=fs)\n"
   ]
  },
  {
   "cell_type": "markdown",
   "metadata": {},
   "source": [
    "Further work:\n",
    "-Explore transformation techniques, especially when dealing with the left-skewed plots.\n",
    "-Consolidate some of the categories.\n",
    "-Add visualization to illustrate the increase in podcast listeners since the beginning of JRE\n",
    "-Explore transcripts for nlp\n",
    "-explore the sentiment of extreme values of likes or dislikes over social media comments\n",
    "-implement stat test to test among variables"
   ]
  },
  {
   "cell_type": "code",
   "execution_count": 110,
   "metadata": {},
   "outputs": [
    {
     "data": {
      "text/plain": [
       "[2085641,\n",
       " 1174038,\n",
       " 1597884,\n",
       " 1862803,\n",
       " 2035513,\n",
       " 1859978,\n",
       " 1702891,\n",
       " 1786590,\n",
       " 3472520,\n",
       " 602106,\n",
       " 74033,\n",
       " 175848,\n",
       " 55925,\n",
       " 8499,\n",
       " 84479,\n",
       " 23457,\n",
       " 1341143,\n",
       " 2828309,\n",
       " 101476,\n",
       " 79010,\n",
       " 79115,\n",
       " 305701,\n",
       " 2135954,\n",
       " 564831,\n",
       " 233969,\n",
       " 149212,\n",
       " 429829,\n",
       " 13444126,\n",
       " 460583,\n",
       " 3709555,\n",
       " 9383993,\n",
       " 692526,\n",
       " 3790544]"
      ]
     },
     "execution_count": 110,
     "metadata": {},
     "output_type": "execute_result"
    }
   ],
   "source": [
    "# How should I go about the ANOVA among categories?  Maybe use Kruskal-Wallis.  First, I will need lists of views from each\n",
    "# category.\n",
    "\n",
    "\n",
    "# so this will return a list of views from politics.\n",
    "dft[dft.tag == 'politics'].views.tolist()\n",
    "\n",
    "# that is nice, but I need one for all tags with 30 or more episodes.\n",
    "# I could do it manually, but I think there is better way.\n",
    "\n"
   ]
  },
  {
   "cell_type": "code",
   "execution_count": null,
   "metadata": {},
   "outputs": [],
   "source": []
  }
 ],
 "metadata": {
  "kernelspec": {
   "display_name": "Python 3",
   "language": "python",
   "name": "python3"
  },
  "language_info": {
   "codemirror_mode": {
    "name": "ipython",
    "version": 3
   },
   "file_extension": ".py",
   "mimetype": "text/x-python",
   "name": "python",
   "nbconvert_exporter": "python",
   "pygments_lexer": "ipython3",
   "version": "3.7.1"
  }
 },
 "nbformat": 4,
 "nbformat_minor": 2
}
