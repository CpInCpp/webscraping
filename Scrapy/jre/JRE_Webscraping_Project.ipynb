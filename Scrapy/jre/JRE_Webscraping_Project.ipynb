{
 "cells": [
  {
   "cell_type": "code",
   "execution_count": 43,
   "metadata": {},
   "outputs": [
    {
     "data": {
      "text/html": [
       "<script>\n",
       "code_show=true; \n",
       "function code_toggle() {\n",
       " if (code_show){\n",
       " $('div.input').hide();\n",
       " } else {\n",
       " $('div.input').show();\n",
       " }\n",
       " code_show = !code_show\n",
       "} \n",
       "$( document ).ready(code_toggle);\n",
       "</script>\n",
       "The raw code for this IPython notebook is by default hidden for easier reading.\n",
       "To toggle on/off the raw code, click <a href=\"javascript:code_toggle()\">here</a>."
      ],
      "text/plain": [
       "<IPython.core.display.HTML object>"
      ]
     },
     "execution_count": 43,
     "metadata": {},
     "output_type": "execute_result"
    }
   ],
   "source": [
    "# this code will hide the coding cells..\n",
    "HTML('''<script>\n",
    "code_show=true; \n",
    "function code_toggle() {\n",
    " if (code_show){\n",
    " $('div.input').hide();\n",
    " } else {\n",
    " $('div.input').show();\n",
    " }\n",
    " code_show = !code_show\n",
    "} \n",
    "$( document ).ready(code_toggle);\n",
    "</script>\n",
    "The raw code for this IPython notebook is by default hidden for easier reading.\n",
    "To toggle on/off the raw code, click <a href=\"javascript:code_toggle()\">here</a>.''')"
   ]
  },
  {
   "cell_type": "code",
   "execution_count": 131,
   "metadata": {},
   "outputs": [],
   "source": [
    "# import \n",
    "import pandas as pd\n",
    "import numpy as np\n",
    "from matplotlib import pyplot as plt\n",
    "from IPython.display import HTML\n",
    "from scipy import stats\n",
    "import ipywidgets as widgets\n",
    "from ipywidgets import interact, interact_manual\n",
    "from datetime import datetime\n",
    "df = pd.read_csv('c:/users/nanot/webscraping/scrapy/jre/data_clean/jre2_clean.csv')"
   ]
  },
  {
   "cell_type": "code",
   "execution_count": 132,
   "metadata": {},
   "outputs": [],
   "source": [
    "# a few cleaning bits..\n",
    "# change the name of the tag, 'atheletes-fighters-martial-arts' to something else...\n",
    "df['tag'] = df.tag.str.replace('athletes-fighters-martial-arts', 'athletes-fighters')\n",
    "# get rid of the episode number from the title\n",
    "df['ep_title'] = df.ep_title.str.replace('\\\\#\\d{1,4}- ', '')\n",
    "# drop 'best of' episodes, episodes less than 55 min, and fight companion episodes..\n",
    "mask1 = ~df.ep_title.str.contains('Best of')\n",
    "mask2 = df.runtime > 55\n",
    "mask3 = ~df.ep_title.str.contains('Fight Companion')\n",
    "df = df[mask1&mask2&mask3]\n",
    "\n",
    "# change the date format using pd.to_datetime(), and then set the airdate as index.\n",
    "df['airdate'] = pd.to_datetime(df.airdate)\n",
    "df = df.set_index('airdate')\n",
    "\n",
    "# create two separate data frames: 1 with no tag column, and one with tag column.  Then drop the duplicates from the dataframe\n",
    "dft = df.copy()\n",
    "df = df.drop('tag', axis = 1)\n",
    "df = df.drop_duplicates()\n",
    "\n"
   ]
  },
  {
   "cell_type": "code",
   "execution_count": 133,
   "metadata": {},
   "outputs": [],
   "source": [
    "# define masks for the data\n",
    "# masks for the outliers of tagless df\n",
    "s = 3\n",
    "mask_outliers_views = (np.abs(stats.zscore(df.views)) > s)\n",
    "mask_outliers_runtime = (np.abs(stats.zscore(df.runtime)) > s)\n",
    "mask_outliers_likes = (np.abs(stats.zscore(df.likes)) > s)\n",
    "mask_outliers_dislikes = (np.abs(stats.zscore(df.dislikes)) > s)\n",
    "mask_outliers_ratio = (np.abs(stats.zscore(df.ratio)) > s)\n",
    "# masks for the outliers of df with tags\n",
    "tmask_outliers_views = (np.abs(stats.zscore(dft.views)) > s)\n",
    "tmask_outliers_runtime = (np.abs(stats.zscore(dft.runtime)) > s)\n",
    "tmask_outliers_likes = (np.abs(stats.zscore(dft.likes)) > s)\n",
    "tmask_outliers_dislikes = (np.abs(stats.zscore(dft.dislikes)) > s)\n",
    "tmask_outliers_ratio = (np.abs(stats.zscore(dft.ratio)) > s)\n",
    "# combos for both dfs\n",
    "mask_or = ~mask_outliers_views & ~mask_outliers_likes & ~mask_outliers_dislikes & ~mask_outliers_ratio # outlier removal mask\n",
    "tmask_or = ~tmask_outliers_views & ~tmask_outliers_likes & ~tmask_outliers_dislikes & ~tmask_outliers_ratio # outlier removal mask for tag df\n",
    "\n",
    "#create time slice for last 2 years..\n",
    "#dft_2ys = dft['2017-06':'2019-06']\n"
   ]
  },
  {
   "cell_type": "markdown",
   "metadata": {},
   "source": [
    "Analysis of The Joe Rogan Experience Podcast"
   ]
  },
  {
   "cell_type": "markdown",
   "metadata": {},
   "source": [
    "Intro:\n",
    "The Joe Rogan Experience is a popular and unusually structured podcast in which guests sit and casually converse with its host, Joe Rogan.  Being that the show takes on different flavor depending on the guest, I thought it may be interesting to see if there are any obvious statistical differences amongst the many categories that may describe each episode.  But first, I wanted to take a general look at the data collected."
   ]
  },
  {
   "cell_type": "markdown",
   "metadata": {},
   "source": [
    "Dataset:\n",
    "The dataset was scraped from JREpodcast.com--a third-party fan-made website with video links to every episode.  Nearly all entries included data such as title (which includes the guest), duration, number of views, number of likes, number of dislikes, and ratio.  This information wasn't too hard to scrape, but what I really wanted was the category, which proved to be more chanllenging to obtain.  When the scrape was complete, I had two datasets to clean: one with categories and one without."
   ]
  },
  {
   "cell_type": "markdown",
   "metadata": {},
   "source": [
    "Results"
   ]
  },
  {
   "cell_type": "code",
   "execution_count": 158,
   "metadata": {},
   "outputs": [
    {
     "data": {
      "text/html": [
       "<div>\n",
       "<style scoped>\n",
       "    .dataframe tbody tr th:only-of-type {\n",
       "        vertical-align: middle;\n",
       "    }\n",
       "\n",
       "    .dataframe tbody tr th {\n",
       "        vertical-align: top;\n",
       "    }\n",
       "\n",
       "    .dataframe thead th {\n",
       "        text-align: right;\n",
       "    }\n",
       "</style>\n",
       "<table border=\"1\" class=\"dataframe\">\n",
       "  <thead>\n",
       "    <tr style=\"text-align: right;\">\n",
       "      <th></th>\n",
       "      <th>ep</th>\n",
       "      <th>ep_title</th>\n",
       "      <th>runtime</th>\n",
       "      <th>views</th>\n",
       "      <th>likes</th>\n",
       "      <th>dislikes</th>\n",
       "      <th>ratio</th>\n",
       "    </tr>\n",
       "    <tr>\n",
       "      <th>airdate</th>\n",
       "      <th></th>\n",
       "      <th></th>\n",
       "      <th></th>\n",
       "      <th></th>\n",
       "      <th></th>\n",
       "      <th></th>\n",
       "      <th></th>\n",
       "    </tr>\n",
       "  </thead>\n",
       "  <tbody>\n",
       "    <tr>\n",
       "      <th>2017-12-29</th>\n",
       "      <td>1058.0</td>\n",
       "      <td>Nina Teicholz</td>\n",
       "      <td>78.32</td>\n",
       "      <td>741014</td>\n",
       "      <td>8892</td>\n",
       "      <td>1619</td>\n",
       "      <td>5.49</td>\n",
       "    </tr>\n",
       "    <tr>\n",
       "      <th>2018-07-12</th>\n",
       "      <td>1143.0</td>\n",
       "      <td>Candice Thompson</td>\n",
       "      <td>108.02</td>\n",
       "      <td>924252</td>\n",
       "      <td>8107</td>\n",
       "      <td>5788</td>\n",
       "      <td>1.40</td>\n",
       "    </tr>\n",
       "    <tr>\n",
       "      <th>2019-03-07</th>\n",
       "      <td>1259.0</td>\n",
       "      <td>David Wallace-Wells</td>\n",
       "      <td>113.58</td>\n",
       "      <td>1158346</td>\n",
       "      <td>14082</td>\n",
       "      <td>9616</td>\n",
       "      <td>1.46</td>\n",
       "    </tr>\n",
       "    <tr>\n",
       "      <th>2015-10-27</th>\n",
       "      <td>713.0</td>\n",
       "      <td>Dave Rubin</td>\n",
       "      <td>180.23</td>\n",
       "      <td>429829</td>\n",
       "      <td>6267</td>\n",
       "      <td>396</td>\n",
       "      <td>15.83</td>\n",
       "    </tr>\n",
       "    <tr>\n",
       "      <th>2019-06-21</th>\n",
       "      <td>NaN</td>\n",
       "      <td>Swapcast Podcast On A Plane with John Dudley (...</td>\n",
       "      <td>85.70</td>\n",
       "      <td>256761</td>\n",
       "      <td>2570</td>\n",
       "      <td>333</td>\n",
       "      <td>7.72</td>\n",
       "    </tr>\n",
       "    <tr>\n",
       "      <th>2014-10-13</th>\n",
       "      <td>560.0</td>\n",
       "      <td>Anthony Cumia</td>\n",
       "      <td>179.40</td>\n",
       "      <td>392663</td>\n",
       "      <td>3403</td>\n",
       "      <td>282</td>\n",
       "      <td>12.07</td>\n",
       "    </tr>\n",
       "    <tr>\n",
       "      <th>2018-10-26</th>\n",
       "      <td>47.0</td>\n",
       "      <td>Tyson Fury</td>\n",
       "      <td>73.67</td>\n",
       "      <td>2717309</td>\n",
       "      <td>59899</td>\n",
       "      <td>1238</td>\n",
       "      <td>48.38</td>\n",
       "    </tr>\n",
       "    <tr>\n",
       "      <th>2018-10-01</th>\n",
       "      <td>1177.0</td>\n",
       "      <td>Sober October 2</td>\n",
       "      <td>187.62</td>\n",
       "      <td>2506191</td>\n",
       "      <td>28109</td>\n",
       "      <td>1824</td>\n",
       "      <td>15.41</td>\n",
       "    </tr>\n",
       "    <tr>\n",
       "      <th>2015-05-26</th>\n",
       "      <td>652.0</td>\n",
       "      <td>Ricky Schroder</td>\n",
       "      <td>96.33</td>\n",
       "      <td>116605</td>\n",
       "      <td>898</td>\n",
       "      <td>439</td>\n",
       "      <td>2.05</td>\n",
       "    </tr>\n",
       "    <tr>\n",
       "      <th>2014-06-12</th>\n",
       "      <td>511.0</td>\n",
       "      <td>Enson Inoue</td>\n",
       "      <td>150.97</td>\n",
       "      <td>221613</td>\n",
       "      <td>1884</td>\n",
       "      <td>78</td>\n",
       "      <td>24.15</td>\n",
       "    </tr>\n",
       "  </tbody>\n",
       "</table>\n",
       "</div>"
      ],
      "text/plain": [
       "                ep                                           ep_title  \\\n",
       "airdate                                                                 \n",
       "2017-12-29  1058.0                                      Nina Teicholz   \n",
       "2018-07-12  1143.0                                   Candice Thompson   \n",
       "2019-03-07  1259.0                                David Wallace-Wells   \n",
       "2015-10-27   713.0                                         Dave Rubin   \n",
       "2019-06-21     NaN  Swapcast Podcast On A Plane with John Dudley (...   \n",
       "2014-10-13   560.0                                      Anthony Cumia   \n",
       "2018-10-26    47.0                                         Tyson Fury   \n",
       "2018-10-01  1177.0                                    Sober October 2   \n",
       "2015-05-26   652.0                                     Ricky Schroder   \n",
       "2014-06-12   511.0                                        Enson Inoue   \n",
       "\n",
       "            runtime    views  likes  dislikes  ratio  \n",
       "airdate                                               \n",
       "2017-12-29    78.32   741014   8892      1619   5.49  \n",
       "2018-07-12   108.02   924252   8107      5788   1.40  \n",
       "2019-03-07   113.58  1158346  14082      9616   1.46  \n",
       "2015-10-27   180.23   429829   6267       396  15.83  \n",
       "2019-06-21    85.70   256761   2570       333   7.72  \n",
       "2014-10-13   179.40   392663   3403       282  12.07  \n",
       "2018-10-26    73.67  2717309  59899      1238  48.38  \n",
       "2018-10-01   187.62  2506191  28109      1824  15.41  \n",
       "2015-05-26    96.33   116605    898       439   2.05  \n",
       "2014-06-12   150.97   221613   1884        78  24.15  "
      ]
     },
     "execution_count": 158,
     "metadata": {},
     "output_type": "execute_result"
    }
   ],
   "source": [
    "df.sample(10)"
   ]
  },
  {
   "cell_type": "code",
   "execution_count": 159,
   "metadata": {},
   "outputs": [
    {
     "data": {
      "text/html": [
       "<div>\n",
       "<style scoped>\n",
       "    .dataframe tbody tr th:only-of-type {\n",
       "        vertical-align: middle;\n",
       "    }\n",
       "\n",
       "    .dataframe tbody tr th {\n",
       "        vertical-align: top;\n",
       "    }\n",
       "\n",
       "    .dataframe thead th {\n",
       "        text-align: right;\n",
       "    }\n",
       "</style>\n",
       "<table border=\"1\" class=\"dataframe\">\n",
       "  <thead>\n",
       "    <tr style=\"text-align: right;\">\n",
       "      <th></th>\n",
       "      <th>ep</th>\n",
       "      <th>ep_title</th>\n",
       "      <th>tag</th>\n",
       "      <th>runtime</th>\n",
       "      <th>views</th>\n",
       "      <th>likes</th>\n",
       "      <th>dislikes</th>\n",
       "      <th>ratio</th>\n",
       "    </tr>\n",
       "    <tr>\n",
       "      <th>airdate</th>\n",
       "      <th></th>\n",
       "      <th></th>\n",
       "      <th></th>\n",
       "      <th></th>\n",
       "      <th></th>\n",
       "      <th></th>\n",
       "      <th></th>\n",
       "      <th></th>\n",
       "    </tr>\n",
       "  </thead>\n",
       "  <tbody>\n",
       "    <tr>\n",
       "      <th>2014-05-12</th>\n",
       "      <td>498.0</td>\n",
       "      <td>Aubrey Marcus</td>\n",
       "      <td>writers</td>\n",
       "      <td>178.92</td>\n",
       "      <td>147814</td>\n",
       "      <td>1664</td>\n",
       "      <td>98</td>\n",
       "      <td>16.98</td>\n",
       "    </tr>\n",
       "    <tr>\n",
       "      <th>2015-12-11</th>\n",
       "      <td>734.0</td>\n",
       "      <td>Brendan Schaub</td>\n",
       "      <td>comedians</td>\n",
       "      <td>169.90</td>\n",
       "      <td>437670</td>\n",
       "      <td>3293</td>\n",
       "      <td>209</td>\n",
       "      <td>15.76</td>\n",
       "    </tr>\n",
       "    <tr>\n",
       "      <th>2014-07-17</th>\n",
       "      <td>522.0</td>\n",
       "      <td>CJ Werleman</td>\n",
       "      <td>authors</td>\n",
       "      <td>171.03</td>\n",
       "      <td>103511</td>\n",
       "      <td>923</td>\n",
       "      <td>489</td>\n",
       "      <td>1.89</td>\n",
       "    </tr>\n",
       "    <tr>\n",
       "      <th>2014-08-25</th>\n",
       "      <td>539.0</td>\n",
       "      <td>Cara Santa Maria</td>\n",
       "      <td>journalists</td>\n",
       "      <td>118.27</td>\n",
       "      <td>156203</td>\n",
       "      <td>1488</td>\n",
       "      <td>260</td>\n",
       "      <td>5.72</td>\n",
       "    </tr>\n",
       "    <tr>\n",
       "      <th>2019-01-12</th>\n",
       "      <td>1223.0</td>\n",
       "      <td>Greg Fitzsimmons</td>\n",
       "      <td>comedians</td>\n",
       "      <td>199.13</td>\n",
       "      <td>1220227</td>\n",
       "      <td>11759</td>\n",
       "      <td>1217</td>\n",
       "      <td>9.66</td>\n",
       "    </tr>\n",
       "    <tr>\n",
       "      <th>2014-07-18</th>\n",
       "      <td>523.0</td>\n",
       "      <td>Jim Norton</td>\n",
       "      <td>authors</td>\n",
       "      <td>162.10</td>\n",
       "      <td>218224</td>\n",
       "      <td>1771</td>\n",
       "      <td>126</td>\n",
       "      <td>14.06</td>\n",
       "    </tr>\n",
       "    <tr>\n",
       "      <th>2018-06-06</th>\n",
       "      <td>1127.0</td>\n",
       "      <td>Jesse Itzler</td>\n",
       "      <td>business</td>\n",
       "      <td>107.18</td>\n",
       "      <td>789480</td>\n",
       "      <td>9269</td>\n",
       "      <td>700</td>\n",
       "      <td>13.24</td>\n",
       "    </tr>\n",
       "    <tr>\n",
       "      <th>2014-10-10</th>\n",
       "      <td>559.0</td>\n",
       "      <td>Keith Weber</td>\n",
       "      <td>athletes-fighters</td>\n",
       "      <td>118.07</td>\n",
       "      <td>88538</td>\n",
       "      <td>739</td>\n",
       "      <td>43</td>\n",
       "      <td>17.19</td>\n",
       "    </tr>\n",
       "    <tr>\n",
       "      <th>2013-01-16</th>\n",
       "      <td>298.0</td>\n",
       "      <td>Dennis McKenna</td>\n",
       "      <td>comedians</td>\n",
       "      <td>159.00</td>\n",
       "      <td>233586</td>\n",
       "      <td>2148</td>\n",
       "      <td>112</td>\n",
       "      <td>19.18</td>\n",
       "    </tr>\n",
       "    <tr>\n",
       "      <th>2019-05-21</th>\n",
       "      <td>1300.0</td>\n",
       "      <td>Michael Malice</td>\n",
       "      <td>authors</td>\n",
       "      <td>181.78</td>\n",
       "      <td>1241878</td>\n",
       "      <td>15906</td>\n",
       "      <td>1528</td>\n",
       "      <td>10.41</td>\n",
       "    </tr>\n",
       "  </tbody>\n",
       "</table>\n",
       "</div>"
      ],
      "text/plain": [
       "                ep          ep_title                tag  runtime    views  \\\n",
       "airdate                                                                     \n",
       "2014-05-12   498.0     Aubrey Marcus            writers   178.92   147814   \n",
       "2015-12-11   734.0    Brendan Schaub          comedians   169.90   437670   \n",
       "2014-07-17   522.0       CJ Werleman            authors   171.03   103511   \n",
       "2014-08-25   539.0  Cara Santa Maria        journalists   118.27   156203   \n",
       "2019-01-12  1223.0  Greg Fitzsimmons          comedians   199.13  1220227   \n",
       "2014-07-18   523.0        Jim Norton            authors   162.10   218224   \n",
       "2018-06-06  1127.0      Jesse Itzler           business   107.18   789480   \n",
       "2014-10-10   559.0       Keith Weber  athletes-fighters   118.07    88538   \n",
       "2013-01-16   298.0    Dennis McKenna          comedians   159.00   233586   \n",
       "2019-05-21  1300.0    Michael Malice            authors   181.78  1241878   \n",
       "\n",
       "            likes  dislikes  ratio  \n",
       "airdate                             \n",
       "2014-05-12   1664        98  16.98  \n",
       "2015-12-11   3293       209  15.76  \n",
       "2014-07-17    923       489   1.89  \n",
       "2014-08-25   1488       260   5.72  \n",
       "2019-01-12  11759      1217   9.66  \n",
       "2014-07-18   1771       126  14.06  \n",
       "2018-06-06   9269       700  13.24  \n",
       "2014-10-10    739        43  17.19  \n",
       "2013-01-16   2148       112  19.18  \n",
       "2019-05-21  15906      1528  10.41  "
      ]
     },
     "execution_count": 159,
     "metadata": {},
     "output_type": "execute_result"
    }
   ],
   "source": [
    "dft.sample(10)"
   ]
  },
  {
   "cell_type": "code",
   "execution_count": 167,
   "metadata": {},
   "outputs": [
    {
     "data": {
      "application/vnd.jupyter.widget-view+json": {
       "model_id": "0df75158895a426f8655059e17058805",
       "version_major": 2,
       "version_minor": 0
      },
      "text/plain": [
       "interactive(children=(Checkbox(value=False, description='DropOutliers'), Output()), _dom_classes=('widget-inte…"
      ]
     },
     "metadata": {},
     "output_type": "display_data"
    }
   ],
   "source": [
    "# plot time series of views\n",
    "# need to format the plot.  label y axis, and get more tick marks, maybe...\n",
    "cols = ['views', 'likes', 'dislikes']\n",
    "ylabels = ['Views (10 Mil)', 'Likes', 'Dislikes']\n",
    "@interact\n",
    "def ts(DropOutliers = False):\n",
    "    if DropOutliers:\n",
    "        dfs = df_or\n",
    "    else:\n",
    "        dfs = df\n",
    "    axes = dfs[cols].plot(marker='.', title = 'Number of Views Since the Beginning of the Podcast', figsize=(15,10), subplots = True, legend = False, grid = True)\n",
    "    # There are a few spikes that are interesting.  Who are these people receving so many views?\n",
    "    plt.subplots_adjust(top=.95, left=.25)\n",
    "    #plt.ylabel(['Dislikes', 'Likes', 'Views (10 Mil)'])\n",
    "    i = 0\n",
    "    for ax in axes:\n",
    "        ax.set_ylabel(ylabels[i])\n",
    "        ax.set_xlabel('Air Date')\n",
    "        i += 1\n",
    "    "
   ]
  },
  {
   "cell_type": "code",
   "execution_count": 163,
   "metadata": {},
   "outputs": [
    {
     "data": {
      "application/vnd.jupyter.widget-view+json": {
       "model_id": "d449f49f96c14fb78f2af0c6c2ec5333",
       "version_major": 2,
       "version_minor": 0
      },
      "text/plain": [
       "interactive(children=(Checkbox(value=False, description='DropOutliers'), Checkbox(value=False, description='La…"
      ]
     },
     "metadata": {},
     "output_type": "display_data"
    }
   ],
   "source": [
    "#Histogram\n",
    "col_list = ['views', 'likes', 'dislikes', 'ratio', 'runtime']\n",
    "@interact\n",
    "def histogram_by_col(DropOutliers = False, LastTwoYears = False, Columns=col_list):\n",
    "    if LastTwoYears:\n",
    "        start_date = '2017-06'\n",
    "    else:\n",
    "        start_date = '2013-01-15'\n",
    "    if DropOutliers:\n",
    "        dfthist = dft_or\n",
    "    else:\n",
    "        dfthist = dft \n",
    "    fs = 15\n",
    "    axes = dfthist[start_date:'2019-07-04'][Columns].hist( color = 'c',figsize=(8,8))\n",
    "    axes.set_ylabel('Count', fontsize = fs)\n",
    "    axes.set_xlabel(Columns, fontsize = fs)\n",
    "#     axes.set_title(Columns, fontsize=fs)\n",
    "    "
   ]
  },
  {
   "cell_type": "code",
   "execution_count": 136,
   "metadata": {
    "scrolled": false
   },
   "outputs": [
    {
     "data": {
      "application/vnd.jupyter.widget-view+json": {
       "model_id": "6bc2884fff3c427f854406b9472707ae",
       "version_major": 2,
       "version_minor": 0
      },
      "text/plain": [
       "interactive(children=(Checkbox(value=False, description='DropOutliers'), Output()), _dom_classes=('widget-inte…"
      ]
     },
     "metadata": {},
     "output_type": "display_data"
    }
   ],
   "source": [
    "# barplot \n",
    "@interact\n",
    "def barplot_views_by_cat(DropOutliers = False):\n",
    "    if DropOutliers:\n",
    "        dftbar = dft_or\n",
    "    else:\n",
    "        dftbar = dft \n",
    "    fs = 15\n",
    "    axes = dftbar.groupby('tag').views.mean().sort_values(ascending=True).plot.barh(color = 'c', fontsize = 15, figsize=(10,10))\n",
    "    axes.set_ylabel('Guest', fontsize = fs)\n",
    "    axes.set_xlabel('Views', fontsize = fs)\n",
    "    axes.set_title('Views by Category', fontsize=fs)\n",
    "    "
   ]
  },
  {
   "cell_type": "code",
   "execution_count": 144,
   "metadata": {
    "scrolled": false
   },
   "outputs": [
    {
     "data": {
      "application/vnd.jupyter.widget-view+json": {
       "model_id": "aacdc909678f45599646ef1d8ed8605e",
       "version_major": 2,
       "version_minor": 0
      },
      "text/plain": [
       "interactive(children=(Dropdown(description='column', options=('views', 'likes', 'dislikes', 'ratio', 'runtime'…"
      ]
     },
     "metadata": {},
     "output_type": "display_data"
    }
   ],
   "source": [
    "\n",
    "\n",
    "\n",
    "# I want to choose a column from col list and display box plots from specific tags on the same plot.\n",
    "dft_or = dft[tmask_or]\n",
    "# how do i select columns for this...?\n",
    "col_list = ['views', 'likes', 'dislikes', 'ratio', 'runtime']\n",
    "tag = ['politics', 'athletes-fighters', 'authors', 'comedians', 'filmmakers', 'health', 'journalists', 'miscellaneous', 'musicians', 'politics', 'writers']\n",
    "#dft_or[dft_or.tag == tag].plot(title = 'Distributions Within %s'%(tag.capitalize()), fontsize=15,  y = col_list, kind='box', layout = (2,3), subplots = True, figsize = (20,8))\n",
    "@interact\n",
    "def box_plots_by_col(column=col_list, WithOutliers=False, ShowFliers = False, LastTwoYears = False):\n",
    "    if LastTwoYears:\n",
    "        start_date = '2017-06'\n",
    "    else:\n",
    "        start_date = '2013-01-15'\n",
    "    if WithOutliers:\n",
    "        dftbox=dft\n",
    "    else:\n",
    "        dftbox=dft_or\n",
    "   \n",
    "    the_plot = dftbox[dftbox.tag.isin(tag)][start_date:'2019-07-04'].boxplot(showfliers = ShowFliers, by = 'tag', column=column, figsize=(20,7), fontsize = 15)\n",
    "    the_plot.set_title('Distributions Within %s'%(column.capitalize()))\n",
    "    return the_plot\n",
    "\n"
   ]
  },
  {
   "cell_type": "code",
   "execution_count": 174,
   "metadata": {},
   "outputs": [
    {
     "data": {
      "application/vnd.jupyter.widget-view+json": {
       "model_id": "34b748e0e0d5467395347a496b1f7013",
       "version_major": 2,
       "version_minor": 0
      },
      "text/plain": [
       "interactive(children=(Dropdown(description='category', options=('writers', 'musicians', 'politics', 'models', …"
      ]
     },
     "metadata": {},
     "output_type": "display_data"
    }
   ],
   "source": [
    "dft_or = dft[tmask_or]\n",
    "tag = ['politics', 'athletes-fighters', 'authors', 'comedians', 'filmmakers', 'health', 'journalists', 'miscellaneous', 'musicians', 'politics', 'writers']\n",
    "\n",
    "\n",
    "@interact\n",
    "\n",
    "def box_plots(category=dft_or.tag.unique().tolist(), WithOutliers=False, ShowFliers = False):\n",
    "    if WithOutliers:\n",
    "        dftbox=dft\n",
    "    else:\n",
    "        dftbox=dft_or\n",
    "    tag = category\n",
    "    \n",
    "    the_plot = dftbox[dftbox.tag.isin([tag])].plot(showfliers = ShowFliers, title = 'Distributions Within %s'%(tag.capitalize()), fontsize=15,  y = col_list, kind='box', layout = (2,3), subplots = True, figsize = (20,8))\n",
    "    return the_plot"
   ]
  },
  {
   "cell_type": "code",
   "execution_count": 140,
   "metadata": {},
   "outputs": [
    {
     "data": {
      "application/vnd.jupyter.widget-view+json": {
       "model_id": "5cf4506cb3004a2ca3348cc87dfca55b",
       "version_major": 2,
       "version_minor": 0
      },
      "text/plain": [
       "interactive(children=(Dropdown(description='column', options=('views', 'likes', 'dislikes', 'ratio', 'runtime'…"
      ]
     },
     "metadata": {},
     "output_type": "display_data"
    }
   ],
   "source": [
    "#set up interact to get top views..\n",
    "col_list = ['views', 'likes', 'dislikes', 'ratio', 'runtime']\n",
    "@interact\n",
    "def horz_bar_plot(column = col_list, n=(1, 50), DropOutliers = False):\n",
    "    if DropOutliers:\n",
    "        dfbar = df_or\n",
    "    else:\n",
    "        dfbar = df \n",
    "    \n",
    "    if n > 30:\n",
    "        fs = n/2\n",
    "    else:\n",
    "        fs = 12\n",
    "    axes = dfbar.nlargest(n, column).groupby('ep_title')[column].max().sort_values(ascending=True).plot.barh(fontsize=fs, color='b', figsize=(5,fs/2))\n",
    "    axes.set_ylabel('Guest', fontsize = fs)\n",
    "    axes.set_xlabel(column, fontsize = fs)\n",
    "    axes.set_title('Top {} Guests by Number of {}'.format(n, column), fontsize=fs)\n",
    "    "
   ]
  },
  {
   "cell_type": "markdown",
   "metadata": {},
   "source": [
    "Further work:\n",
    "-Explore transformation techniques, especially when dealing with the left-skewed plots.\n",
    "-Consolidate some of the categories.\n"
   ]
  }
 ],
 "metadata": {
  "kernelspec": {
   "display_name": "Python 3",
   "language": "python",
   "name": "python3"
  },
  "language_info": {
   "codemirror_mode": {
    "name": "ipython",
    "version": 3
   },
   "file_extension": ".py",
   "mimetype": "text/x-python",
   "name": "python",
   "nbconvert_exporter": "python",
   "pygments_lexer": "ipython3",
   "version": "3.7.1"
  }
 },
 "nbformat": 4,
 "nbformat_minor": 2
}
